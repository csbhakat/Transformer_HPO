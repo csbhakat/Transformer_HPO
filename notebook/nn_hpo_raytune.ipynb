{
 "cells": [
  {
   "cell_type": "code",
   "execution_count": 56,
   "metadata": {},
   "outputs": [],
   "source": [
    "import warnings\n",
    "warnings.simplefilter(\"ignore\")\n",
    "\n",
    "from functools import partial\n",
    "import numpy as np\n",
    "import os\n",
    "import torch\n",
    "import torch.nn as nn\n",
    "import torch.nn.functional as F\n",
    "import torch.optim as optim\n",
    "from torch.utils.data import random_split\n",
    "import torchvision\n",
    "import torchvision.transforms as transforms\n",
    "import ray\n",
    "from ray import tune\n",
    "from ray.tune.schedulers import ASHAScheduler\n",
    "\n",
    "%matplotlib inline\n",
    "import matplotlib.pyplot as plt\n",
    "import matplotlib.style as style\n",
    "\n",
    "style.use(\"ggplot\")"
   ]
  },
  {
   "cell_type": "code",
   "execution_count": 57,
   "metadata": {},
   "outputs": [],
   "source": [
    "#loading CIFAR10 dataset\n",
    "def load_data(data_dir=\"./data\"):\n",
    "    transform = transforms.Compose([\n",
    "        transforms.ToTensor(),\n",
    "        transforms.Normalize((0.5, 0.5, 0.5), (0.5, 0.5, 0.5))\n",
    "    ])\n",
    "\n",
    "    trainset = torchvision.datasets.CIFAR10(\n",
    "        root=data_dir, train=True, download=True, transform=transform)\n",
    "\n",
    "    testset = torchvision.datasets.CIFAR10(\n",
    "        root=data_dir, train=False, download=True, transform=transform)\n",
    "\n",
    "    return trainset, testset"
   ]
  },
  {
   "cell_type": "code",
   "execution_count": 58,
   "metadata": {},
   "outputs": [],
   "source": [
    "#defining Network Architecture for CIFAR10\n",
    "class Net(nn.Module):\n",
    "    def __init__(self, l1=120, l2=84):\n",
    "        super(Net, self).__init__()\n",
    "        self.conv1 = nn.Conv2d(3, 6, 5)\n",
    "        self.pool = nn.MaxPool2d(2, 2)\n",
    "        self.conv2 = nn.Conv2d(6, 16, 5)\n",
    "        self.fc1 = nn.Linear(16 * 5 * 5, l1)\n",
    "        self.fc2 = nn.Linear(l1, l2)\n",
    "        self.fc3 = nn.Linear(l2, 10)\n",
    "\n",
    "    def forward(self, x):\n",
    "        x = self.pool(F.relu(self.conv1(x)))\n",
    "        x = self.pool(F.relu(self.conv2(x)))\n",
    "        x = x.view(-1, 16 * 5 * 5)\n",
    "        x = F.relu(self.fc1(x))\n",
    "        x = F.relu(self.fc2(x))\n",
    "        x = self.fc3(x)\n",
    "        return x"
   ]
  },
  {
   "cell_type": "code",
   "execution_count": null,
   "metadata": {},
   "outputs": [],
   "source": []
  },
  {
   "cell_type": "code",
   "execution_count": 59,
   "metadata": {},
   "outputs": [],
   "source": [
    "def train_cifar(config, data_dir=None):\n",
    "    \"\"\"\n",
    "    config: declaring all neceaary parameters to be tuned\n",
    "    data_dir: raw data home dir\n",
    "    \"\"\"\n",
    "    net = Net(config[\"l1\"], config[\"l2\"])\n",
    "\n",
    "    device = \"cpu\"\n",
    "    if torch.cuda.is_available():\n",
    "        device = \"cuda:0\"\n",
    "        if torch.cuda.device_count() > 1:\n",
    "            net = nn.DataParallel(net)\n",
    "    net.to(device)\n",
    "\n",
    "    criterion = nn.CrossEntropyLoss()\n",
    "    optimizer = optim.SGD(net.parameters(), lr=config[\"lr\"], momentum=0.9)\n",
    "\n",
    "    trainset, testset = load_data(data_dir)\n",
    "\n",
    "    test_abs = int(len(trainset) * 0.8)\n",
    "    #splitting data into training and validation\n",
    "    train_subset, val_subset = random_split(trainset, [test_abs, len(trainset) - test_abs])\n",
    "    \n",
    "    #Defining data loaders\n",
    "    trainloader = torch.utils.data.DataLoader(\n",
    "        train_subset,\n",
    "        batch_size=int(config[\"batch_size\"]),\n",
    "        shuffle=True,\n",
    "        num_workers=8)\n",
    "    valloader = torch.utils.data.DataLoader(\n",
    "        val_subset,\n",
    "        batch_size=int(config[\"batch_size\"]),\n",
    "        shuffle=True,\n",
    "        num_workers=8)\n",
    "    \n",
    "    #starting learning epochs\n",
    "    for epoch in range(10):  # loop over the dataset multiple times\n",
    "        running_loss = 0.0\n",
    "        epoch_steps = 0\n",
    "        for i, data in enumerate(trainloader, 0):\n",
    "            # get the inputs; data is a list of [inputs, labels]\n",
    "            inputs, labels = data\n",
    "            inputs, labels = inputs.to(device), labels.to(device)\n",
    "\n",
    "            # zero the parameter gradients\n",
    "            optimizer.zero_grad()\n",
    "\n",
    "            # forward + backward + optimize\n",
    "            outputs = net(inputs)\n",
    "            loss = criterion(outputs, labels)\n",
    "            loss.backward()\n",
    "            optimizer.step()\n",
    "\n",
    "            # print statistics\n",
    "            running_loss += loss.item()\n",
    "            epoch_steps += 1\n",
    "            if i % 2000 == 1999:  # print every 2000 mini-batches\n",
    "                print(\"[%d, %5d] loss: %.3f\" % (epoch + 1, i + 1,\n",
    "                                                running_loss / epoch_steps))\n",
    "                running_loss = 0.0\n",
    "\n",
    "        # Validation loss\n",
    "        val_loss = 0.0\n",
    "        val_steps = 0\n",
    "        total = 0\n",
    "        correct = 0\n",
    "        for i, data in enumerate(valloader, 0):\n",
    "            with torch.no_grad():\n",
    "                inputs, labels = data\n",
    "                inputs, labels = inputs.to(device), labels.to(device)\n",
    "\n",
    "                outputs = net(inputs)\n",
    "                _, predicted = torch.max(outputs.data, 1)\n",
    "                total += labels.size(0)\n",
    "                correct += (predicted == labels).sum().item()\n",
    "\n",
    "                loss = criterion(outputs, labels)\n",
    "                val_loss += loss.cpu().numpy()\n",
    "                val_steps += 1\n",
    "\n",
    "        #used to report the objective which should be optimized for learning \n",
    "        tune.report(loss=(val_loss / val_steps), accuracy=correct / total)\n",
    "    print(\"Finished Training\")"
   ]
  },
  {
   "cell_type": "code",
   "execution_count": 60,
   "metadata": {},
   "outputs": [],
   "source": [
    "def test_accuracy(net, device=\"cpu\"):\n",
    "    trainset, testset = load_data()\n",
    "\n",
    "    testloader = torch.utils.data.DataLoader(\n",
    "        testset, batch_size=4, shuffle=False, num_workers=2)\n",
    "\n",
    "    correct = 0\n",
    "    total = 0\n",
    "    with torch.no_grad():\n",
    "        for data in testloader:\n",
    "            images, labels = data\n",
    "            images, labels = images.to(device), labels.to(device)\n",
    "            outputs = net(images)\n",
    "            _, predicted = torch.max(outputs.data, 1)\n",
    "            total += labels.size(0)\n",
    "            correct += (predicted == labels).sum().item()\n",
    "\n",
    "    return correct / total"
   ]
  },
  {
   "cell_type": "code",
   "execution_count": 62,
   "metadata": {},
   "outputs": [
    {
     "name": "stdout",
     "output_type": "stream",
     "text": [
      "Files already downloaded and verified\n",
      "Files already downloaded and verified\n"
     ]
    },
    {
     "data": {
      "text/html": [
       "== Status ==<br>Memory usage on this node: 7.4/55.0 GiB<br>Using AsyncHyperBand: num_stopped=0\n",
       "Bracket: Iter 8.000: None | Iter 4.000: None | Iter 2.000: None | Iter 1.000: None<br>Resources requested: 2/6 CPUs, 1/1 GPUs, 0.0/29.15 GiB heap, 0.0/10.06 GiB objects (0/1.0 accelerator_type:K80)<br>Result logdir: /home/azureuser/ray_results/_inner_2021-05-20_18-17-13<br>Number of trials: 1/10 (1 RUNNING)<br><br>"
      ],
      "text/plain": [
       "<IPython.core.display.HTML object>"
      ]
     },
     "metadata": {},
     "output_type": "display_data"
    },
    {
     "name": "stdout",
     "output_type": "stream",
     "text": [
      "Trial _inner_9981d_00000 reported loss=2.31 with parameters={'l1': 256, 'l2': 8, 'lr': 0.04257625486011381, 'batch_size': 8}.\n"
     ]
    },
    {
     "data": {
      "text/html": [
       "== Status ==<br>Memory usage on this node: 8.5/55.0 GiB<br>Using AsyncHyperBand: num_stopped=0\n",
       "Bracket: Iter 8.000: None | Iter 4.000: None | Iter 2.000: None | Iter 1.000: -2.3149918865203856<br>Resources requested: 2/6 CPUs, 1/1 GPUs, 0.0/29.15 GiB heap, 0.0/10.06 GiB objects (0/1.0 accelerator_type:K80)<br>Current best trial: 9981d_00000 with loss=2.3149918865203856 and parameters={'l1': 256, 'l2': 8, 'lr': 0.04257625486011381, 'batch_size': 8}<br>Result logdir: /home/azureuser/ray_results/_inner_2021-05-20_18-17-13<br>Number of trials: 2/10 (1 PENDING, 1 RUNNING)<br><br>"
      ],
      "text/plain": [
       "<IPython.core.display.HTML object>"
      ]
     },
     "metadata": {},
     "output_type": "display_data"
    },
    {
     "name": "stdout",
     "output_type": "stream",
     "text": [
      "Trial _inner_9981d_00000 reported loss=2.31 with parameters={'l1': 256, 'l2': 8, 'lr': 0.04257625486011381, 'batch_size': 8}.\n"
     ]
    },
    {
     "data": {
      "text/html": [
       "== Status ==<br>Memory usage on this node: 8.5/55.0 GiB<br>Using AsyncHyperBand: num_stopped=0\n",
       "Bracket: Iter 8.000: None | Iter 4.000: None | Iter 2.000: -2.3149849554061888 | Iter 1.000: -2.3149918865203856<br>Resources requested: 2/6 CPUs, 1/1 GPUs, 0.0/29.15 GiB heap, 0.0/10.06 GiB objects (0/1.0 accelerator_type:K80)<br>Current best trial: 9981d_00000 with loss=2.3149849554061888 and parameters={'l1': 256, 'l2': 8, 'lr': 0.04257625486011381, 'batch_size': 8}<br>Result logdir: /home/azureuser/ray_results/_inner_2021-05-20_18-17-13<br>Number of trials: 2/10 (1 PENDING, 1 RUNNING)<br><br>"
      ],
      "text/plain": [
       "<IPython.core.display.HTML object>"
      ]
     },
     "metadata": {},
     "output_type": "display_data"
    },
    {
     "name": "stdout",
     "output_type": "stream",
     "text": [
      "Trial _inner_9981d_00000 reported loss=2.32 with parameters={'l1': 256, 'l2': 8, 'lr': 0.04257625486011381, 'batch_size': 8}.\n"
     ]
    },
    {
     "data": {
      "text/html": [
       "== Status ==<br>Memory usage on this node: 8.5/55.0 GiB<br>Using AsyncHyperBand: num_stopped=0\n",
       "Bracket: Iter 8.000: None | Iter 4.000: None | Iter 2.000: -2.3149849554061888 | Iter 1.000: -2.3149918865203856<br>Resources requested: 2/6 CPUs, 1/1 GPUs, 0.0/29.15 GiB heap, 0.0/10.06 GiB objects (0/1.0 accelerator_type:K80)<br>Current best trial: 9981d_00000 with loss=2.322728735923767 and parameters={'l1': 256, 'l2': 8, 'lr': 0.04257625486011381, 'batch_size': 8}<br>Result logdir: /home/azureuser/ray_results/_inner_2021-05-20_18-17-13<br>Number of trials: 2/10 (1 PENDING, 1 RUNNING)<br><br>"
      ],
      "text/plain": [
       "<IPython.core.display.HTML object>"
      ]
     },
     "metadata": {},
     "output_type": "display_data"
    },
    {
     "name": "stdout",
     "output_type": "stream",
     "text": [
      "Trial _inner_9981d_00000 reported loss=2.32 with parameters={'l1': 256, 'l2': 8, 'lr': 0.04257625486011381, 'batch_size': 8}.\n"
     ]
    },
    {
     "data": {
      "text/html": [
       "== Status ==<br>Memory usage on this node: 8.5/55.0 GiB<br>Using AsyncHyperBand: num_stopped=0\n",
       "Bracket: Iter 8.000: None | Iter 4.000: -2.3192053466796874 | Iter 2.000: -2.3149849554061888 | Iter 1.000: -2.3149918865203856<br>Resources requested: 2/6 CPUs, 1/1 GPUs, 0.0/29.15 GiB heap, 0.0/10.06 GiB objects (0/1.0 accelerator_type:K80)<br>Current best trial: 9981d_00000 with loss=2.3192053466796874 and parameters={'l1': 256, 'l2': 8, 'lr': 0.04257625486011381, 'batch_size': 8}<br>Result logdir: /home/azureuser/ray_results/_inner_2021-05-20_18-17-13<br>Number of trials: 2/10 (1 PENDING, 1 RUNNING)<br><br>"
      ],
      "text/plain": [
       "<IPython.core.display.HTML object>"
      ]
     },
     "metadata": {},
     "output_type": "display_data"
    },
    {
     "name": "stdout",
     "output_type": "stream",
     "text": [
      "Trial _inner_9981d_00000 reported loss=2.32 with parameters={'l1': 256, 'l2': 8, 'lr': 0.04257625486011381, 'batch_size': 8}.\n"
     ]
    },
    {
     "data": {
      "text/html": [
       "== Status ==<br>Memory usage on this node: 8.5/55.0 GiB<br>Using AsyncHyperBand: num_stopped=0\n",
       "Bracket: Iter 8.000: None | Iter 4.000: -2.3192053466796874 | Iter 2.000: -2.3149849554061888 | Iter 1.000: -2.3149918865203856<br>Resources requested: 2/6 CPUs, 1/1 GPUs, 0.0/29.15 GiB heap, 0.0/10.06 GiB objects (0/1.0 accelerator_type:K80)<br>Current best trial: 9981d_00000 with loss=2.3156213872909546 and parameters={'l1': 256, 'l2': 8, 'lr': 0.04257625486011381, 'batch_size': 8}<br>Result logdir: /home/azureuser/ray_results/_inner_2021-05-20_18-17-13<br>Number of trials: 2/10 (1 PENDING, 1 RUNNING)<br><br>"
      ],
      "text/plain": [
       "<IPython.core.display.HTML object>"
      ]
     },
     "metadata": {},
     "output_type": "display_data"
    },
    {
     "name": "stdout",
     "output_type": "stream",
     "text": [
      "Trial _inner_9981d_00000 reported loss=2.31 with parameters={'l1': 256, 'l2': 8, 'lr': 0.04257625486011381, 'batch_size': 8}.\n"
     ]
    },
    {
     "data": {
      "text/html": [
       "== Status ==<br>Memory usage on this node: 8.5/55.0 GiB<br>Using AsyncHyperBand: num_stopped=0\n",
       "Bracket: Iter 8.000: None | Iter 4.000: -2.3192053466796874 | Iter 2.000: -2.3149849554061888 | Iter 1.000: -2.3149918865203856<br>Resources requested: 2/6 CPUs, 1/1 GPUs, 0.0/29.15 GiB heap, 0.0/10.06 GiB objects (0/1.0 accelerator_type:K80)<br>Current best trial: 9981d_00000 with loss=2.308539135360718 and parameters={'l1': 256, 'l2': 8, 'lr': 0.04257625486011381, 'batch_size': 8}<br>Result logdir: /home/azureuser/ray_results/_inner_2021-05-20_18-17-13<br>Number of trials: 2/10 (1 PENDING, 1 RUNNING)<br><br>"
      ],
      "text/plain": [
       "<IPython.core.display.HTML object>"
      ]
     },
     "metadata": {},
     "output_type": "display_data"
    },
    {
     "name": "stdout",
     "output_type": "stream",
     "text": [
      "Trial _inner_9981d_00000 reported loss=2.30 with parameters={'l1': 256, 'l2': 8, 'lr': 0.04257625486011381, 'batch_size': 8}.\n"
     ]
    },
    {
     "data": {
      "text/html": [
       "== Status ==<br>Memory usage on this node: 8.5/55.0 GiB<br>Using AsyncHyperBand: num_stopped=0\n",
       "Bracket: Iter 8.000: None | Iter 4.000: -2.3192053466796874 | Iter 2.000: -2.3149849554061888 | Iter 1.000: -2.3149918865203856<br>Resources requested: 2/6 CPUs, 1/1 GPUs, 0.0/29.15 GiB heap, 0.0/10.06 GiB objects (0/1.0 accelerator_type:K80)<br>Current best trial: 9981d_00000 with loss=2.304416565513611 and parameters={'l1': 256, 'l2': 8, 'lr': 0.04257625486011381, 'batch_size': 8}<br>Result logdir: /home/azureuser/ray_results/_inner_2021-05-20_18-17-13<br>Number of trials: 2/10 (1 PENDING, 1 RUNNING)<br><br>"
      ],
      "text/plain": [
       "<IPython.core.display.HTML object>"
      ]
     },
     "metadata": {},
     "output_type": "display_data"
    },
    {
     "name": "stdout",
     "output_type": "stream",
     "text": [
      "Trial _inner_9981d_00000 reported loss=2.32 with parameters={'l1': 256, 'l2': 8, 'lr': 0.04257625486011381, 'batch_size': 8}.\n"
     ]
    },
    {
     "data": {
      "text/html": [
       "== Status ==<br>Memory usage on this node: 8.5/55.0 GiB<br>Using AsyncHyperBand: num_stopped=0\n",
       "Bracket: Iter 8.000: -2.3160989475250244 | Iter 4.000: -2.3192053466796874 | Iter 2.000: -2.3149849554061888 | Iter 1.000: -2.3149918865203856<br>Resources requested: 2/6 CPUs, 1/1 GPUs, 0.0/29.15 GiB heap, 0.0/10.06 GiB objects (0/1.0 accelerator_type:K80)<br>Current best trial: 9981d_00000 with loss=2.3160989475250244 and parameters={'l1': 256, 'l2': 8, 'lr': 0.04257625486011381, 'batch_size': 8}<br>Result logdir: /home/azureuser/ray_results/_inner_2021-05-20_18-17-13<br>Number of trials: 2/10 (1 PENDING, 1 RUNNING)<br><br>"
      ],
      "text/plain": [
       "<IPython.core.display.HTML object>"
      ]
     },
     "metadata": {},
     "output_type": "display_data"
    },
    {
     "name": "stdout",
     "output_type": "stream",
     "text": [
      "Trial _inner_9981d_00000 reported loss=2.31 with parameters={'l1': 256, 'l2': 8, 'lr': 0.04257625486011381, 'batch_size': 8}.\n"
     ]
    },
    {
     "data": {
      "text/html": [
       "== Status ==<br>Memory usage on this node: 8.5/55.0 GiB<br>Using AsyncHyperBand: num_stopped=0\n",
       "Bracket: Iter 8.000: -2.3160989475250244 | Iter 4.000: -2.3192053466796874 | Iter 2.000: -2.3149849554061888 | Iter 1.000: -2.3149918865203856<br>Resources requested: 2/6 CPUs, 1/1 GPUs, 0.0/29.15 GiB heap, 0.0/10.06 GiB objects (0/1.0 accelerator_type:K80)<br>Current best trial: 9981d_00000 with loss=2.306140651130676 and parameters={'l1': 256, 'l2': 8, 'lr': 0.04257625486011381, 'batch_size': 8}<br>Result logdir: /home/azureuser/ray_results/_inner_2021-05-20_18-17-13<br>Number of trials: 2/10 (1 PENDING, 1 RUNNING)<br><br>"
      ],
      "text/plain": [
       "<IPython.core.display.HTML object>"
      ]
     },
     "metadata": {},
     "output_type": "display_data"
    },
    {
     "name": "stdout",
     "output_type": "stream",
     "text": [
      "Trial _inner_9981d_00000 reported loss=2.33 with parameters={'l1': 256, 'l2': 8, 'lr': 0.04257625486011381, 'batch_size': 8}. This trial completed.\n"
     ]
    },
    {
     "data": {
      "text/html": [
       "== Status ==<br>Memory usage on this node: 8.4/55.0 GiB<br>Using AsyncHyperBand: num_stopped=1\n",
       "Bracket: Iter 8.000: -2.3160989475250244 | Iter 4.000: -2.3192053466796874 | Iter 2.000: -2.3149849554061888 | Iter 1.000: -2.3149918865203856<br>Resources requested: 0/6 CPUs, 0/1 GPUs, 0.0/29.15 GiB heap, 0.0/10.06 GiB objects (0/1.0 accelerator_type:K80)<br>Current best trial: 9981d_00000 with loss=2.3255869081497194 and parameters={'l1': 256, 'l2': 8, 'lr': 0.04257625486011381, 'batch_size': 8}<br>Result logdir: /home/azureuser/ray_results/_inner_2021-05-20_18-17-13<br>Number of trials: 2/10 (1 PENDING, 1 TERMINATED)<br><br>"
      ],
      "text/plain": [
       "<IPython.core.display.HTML object>"
      ]
     },
     "metadata": {},
     "output_type": "display_data"
    },
    {
     "name": "stdout",
     "output_type": "stream",
     "text": [
      "Trial _inner_9981d_00001 reported loss=2.31 with parameters={'l1': 4, 'l2': 4, 'lr': 0.00013096774493777635, 'batch_size': 16}.\n"
     ]
    },
    {
     "data": {
      "text/html": [
       "== Status ==<br>Memory usage on this node: 8.5/55.0 GiB<br>Using AsyncHyperBand: num_stopped=1\n",
       "Bracket: Iter 8.000: -2.3160989475250244 | Iter 4.000: -2.3192053466796874 | Iter 2.000: -2.3149849554061888 | Iter 1.000: -2.3109769294738767<br>Resources requested: 2/6 CPUs, 1/1 GPUs, 0.0/29.15 GiB heap, 0.0/10.06 GiB objects (0/1.0 accelerator_type:K80)<br>Current best trial: 9981d_00001 with loss=2.3069619724273682 and parameters={'l1': 4, 'l2': 4, 'lr': 0.00013096774493777635, 'batch_size': 16}<br>Result logdir: /home/azureuser/ray_results/_inner_2021-05-20_18-17-13<br>Number of trials: 3/10 (1 PENDING, 1 RUNNING, 1 TERMINATED)<br><br>"
      ],
      "text/plain": [
       "<IPython.core.display.HTML object>"
      ]
     },
     "metadata": {},
     "output_type": "display_data"
    },
    {
     "name": "stdout",
     "output_type": "stream",
     "text": [
      "Trial _inner_9981d_00001 reported loss=2.26 with parameters={'l1': 4, 'l2': 4, 'lr': 0.00013096774493777635, 'batch_size': 16}.\n"
     ]
    },
    {
     "data": {
      "text/html": [
       "== Status ==<br>Memory usage on this node: 8.5/55.0 GiB<br>Using AsyncHyperBand: num_stopped=1\n",
       "Bracket: Iter 8.000: -2.3160989475250244 | Iter 4.000: -2.3192053466796874 | Iter 2.000: -2.28942849855423 | Iter 1.000: -2.3109769294738767<br>Resources requested: 2/6 CPUs, 1/1 GPUs, 0.0/29.15 GiB heap, 0.0/10.06 GiB objects (0/1.0 accelerator_type:K80)<br>Current best trial: 9981d_00001 with loss=2.2638720417022706 and parameters={'l1': 4, 'l2': 4, 'lr': 0.00013096774493777635, 'batch_size': 16}<br>Result logdir: /home/azureuser/ray_results/_inner_2021-05-20_18-17-13<br>Number of trials: 3/10 (1 PENDING, 1 RUNNING, 1 TERMINATED)<br><br>"
      ],
      "text/plain": [
       "<IPython.core.display.HTML object>"
      ]
     },
     "metadata": {},
     "output_type": "display_data"
    },
    {
     "name": "stdout",
     "output_type": "stream",
     "text": [
      "Trial _inner_9981d_00001 reported loss=2.19 with parameters={'l1': 4, 'l2': 4, 'lr': 0.00013096774493777635, 'batch_size': 16}.\n"
     ]
    },
    {
     "data": {
      "text/html": [
       "== Status ==<br>Memory usage on this node: 8.5/55.0 GiB<br>Using AsyncHyperBand: num_stopped=1\n",
       "Bracket: Iter 8.000: -2.3160989475250244 | Iter 4.000: -2.3192053466796874 | Iter 2.000: -2.28942849855423 | Iter 1.000: -2.3109769294738767<br>Resources requested: 2/6 CPUs, 1/1 GPUs, 0.0/29.15 GiB heap, 0.0/10.06 GiB objects (0/1.0 accelerator_type:K80)<br>Current best trial: 9981d_00001 with loss=2.1920581312179563 and parameters={'l1': 4, 'l2': 4, 'lr': 0.00013096774493777635, 'batch_size': 16}<br>Result logdir: /home/azureuser/ray_results/_inner_2021-05-20_18-17-13<br>Number of trials: 3/10 (1 PENDING, 1 RUNNING, 1 TERMINATED)<br><br>"
      ],
      "text/plain": [
       "<IPython.core.display.HTML object>"
      ]
     },
     "metadata": {},
     "output_type": "display_data"
    },
    {
     "name": "stdout",
     "output_type": "stream",
     "text": [
      "Trial _inner_9981d_00001 reported loss=2.14 with parameters={'l1': 4, 'l2': 4, 'lr': 0.00013096774493777635, 'batch_size': 16}.\n"
     ]
    },
    {
     "data": {
      "text/html": [
       "== Status ==<br>Memory usage on this node: 8.5/55.0 GiB<br>Using AsyncHyperBand: num_stopped=1\n",
       "Bracket: Iter 8.000: -2.3160989475250244 | Iter 4.000: -2.2285902477264403 | Iter 2.000: -2.28942849855423 | Iter 1.000: -2.3109769294738767<br>Resources requested: 2/6 CPUs, 1/1 GPUs, 0.0/29.15 GiB heap, 0.0/10.06 GiB objects (0/1.0 accelerator_type:K80)<br>Current best trial: 9981d_00001 with loss=2.1379751487731933 and parameters={'l1': 4, 'l2': 4, 'lr': 0.00013096774493777635, 'batch_size': 16}<br>Result logdir: /home/azureuser/ray_results/_inner_2021-05-20_18-17-13<br>Number of trials: 3/10 (1 PENDING, 1 RUNNING, 1 TERMINATED)<br><br>"
      ],
      "text/plain": [
       "<IPython.core.display.HTML object>"
      ]
     },
     "metadata": {},
     "output_type": "display_data"
    },
    {
     "name": "stdout",
     "output_type": "stream",
     "text": [
      "Trial _inner_9981d_00001 reported loss=2.10 with parameters={'l1': 4, 'l2': 4, 'lr': 0.00013096774493777635, 'batch_size': 16}.\n"
     ]
    },
    {
     "data": {
      "text/html": [
       "== Status ==<br>Memory usage on this node: 8.5/55.0 GiB<br>Using AsyncHyperBand: num_stopped=1\n",
       "Bracket: Iter 8.000: -2.3160989475250244 | Iter 4.000: -2.2285902477264403 | Iter 2.000: -2.28942849855423 | Iter 1.000: -2.3109769294738767<br>Resources requested: 2/6 CPUs, 1/1 GPUs, 0.0/29.15 GiB heap, 0.0/10.06 GiB objects (0/1.0 accelerator_type:K80)<br>Current best trial: 9981d_00001 with loss=2.095897969055176 and parameters={'l1': 4, 'l2': 4, 'lr': 0.00013096774493777635, 'batch_size': 16}<br>Result logdir: /home/azureuser/ray_results/_inner_2021-05-20_18-17-13<br>Number of trials: 3/10 (1 PENDING, 1 RUNNING, 1 TERMINATED)<br><br>"
      ],
      "text/plain": [
       "<IPython.core.display.HTML object>"
      ]
     },
     "metadata": {},
     "output_type": "display_data"
    },
    {
     "name": "stdout",
     "output_type": "stream",
     "text": [
      "Trial _inner_9981d_00001 reported loss=2.06 with parameters={'l1': 4, 'l2': 4, 'lr': 0.00013096774493777635, 'batch_size': 16}.\n"
     ]
    },
    {
     "data": {
      "text/html": [
       "== Status ==<br>Memory usage on this node: 8.5/55.0 GiB<br>Using AsyncHyperBand: num_stopped=1\n",
       "Bracket: Iter 8.000: -2.3160989475250244 | Iter 4.000: -2.2285902477264403 | Iter 2.000: -2.28942849855423 | Iter 1.000: -2.3109769294738767<br>Resources requested: 2/6 CPUs, 1/1 GPUs, 0.0/29.15 GiB heap, 0.0/10.06 GiB objects (0/1.0 accelerator_type:K80)<br>Current best trial: 9981d_00001 with loss=2.0559955375671386 and parameters={'l1': 4, 'l2': 4, 'lr': 0.00013096774493777635, 'batch_size': 16}<br>Result logdir: /home/azureuser/ray_results/_inner_2021-05-20_18-17-13<br>Number of trials: 3/10 (1 PENDING, 1 RUNNING, 1 TERMINATED)<br><br>"
      ],
      "text/plain": [
       "<IPython.core.display.HTML object>"
      ]
     },
     "metadata": {},
     "output_type": "display_data"
    },
    {
     "name": "stdout",
     "output_type": "stream",
     "text": [
      "Trial _inner_9981d_00001 reported loss=2.02 with parameters={'l1': 4, 'l2': 4, 'lr': 0.00013096774493777635, 'batch_size': 16}.\n"
     ]
    },
    {
     "data": {
      "text/html": [
       "== Status ==<br>Memory usage on this node: 8.5/55.0 GiB<br>Using AsyncHyperBand: num_stopped=1\n",
       "Bracket: Iter 8.000: -2.3160989475250244 | Iter 4.000: -2.2285902477264403 | Iter 2.000: -2.28942849855423 | Iter 1.000: -2.3109769294738767<br>Resources requested: 2/6 CPUs, 1/1 GPUs, 0.0/29.15 GiB heap, 0.0/10.06 GiB objects (0/1.0 accelerator_type:K80)<br>Current best trial: 9981d_00001 with loss=2.01953553981781 and parameters={'l1': 4, 'l2': 4, 'lr': 0.00013096774493777635, 'batch_size': 16}<br>Result logdir: /home/azureuser/ray_results/_inner_2021-05-20_18-17-13<br>Number of trials: 3/10 (1 PENDING, 1 RUNNING, 1 TERMINATED)<br><br>"
      ],
      "text/plain": [
       "<IPython.core.display.HTML object>"
      ]
     },
     "metadata": {},
     "output_type": "display_data"
    },
    {
     "name": "stdout",
     "output_type": "stream",
     "text": [
      "Trial _inner_9981d_00001 reported loss=1.98 with parameters={'l1': 4, 'l2': 4, 'lr': 0.00013096774493777635, 'batch_size': 16}.\n"
     ]
    },
    {
     "data": {
      "text/html": [
       "== Status ==<br>Memory usage on this node: 8.5/55.0 GiB<br>Using AsyncHyperBand: num_stopped=1\n",
       "Bracket: Iter 8.000: -2.1494565459251405 | Iter 4.000: -2.2285902477264403 | Iter 2.000: -2.28942849855423 | Iter 1.000: -2.3109769294738767<br>Resources requested: 2/6 CPUs, 1/1 GPUs, 0.0/29.15 GiB heap, 0.0/10.06 GiB objects (0/1.0 accelerator_type:K80)<br>Current best trial: 9981d_00001 with loss=1.9828141443252563 and parameters={'l1': 4, 'l2': 4, 'lr': 0.00013096774493777635, 'batch_size': 16}<br>Result logdir: /home/azureuser/ray_results/_inner_2021-05-20_18-17-13<br>Number of trials: 3/10 (1 PENDING, 1 RUNNING, 1 TERMINATED)<br><br>"
      ],
      "text/plain": [
       "<IPython.core.display.HTML object>"
      ]
     },
     "metadata": {},
     "output_type": "display_data"
    },
    {
     "name": "stdout",
     "output_type": "stream",
     "text": [
      "Trial _inner_9981d_00001 reported loss=1.96 with parameters={'l1': 4, 'l2': 4, 'lr': 0.00013096774493777635, 'batch_size': 16}.\n"
     ]
    },
    {
     "data": {
      "text/html": [
       "== Status ==<br>Memory usage on this node: 8.5/55.0 GiB<br>Using AsyncHyperBand: num_stopped=1\n",
       "Bracket: Iter 8.000: -2.1494565459251405 | Iter 4.000: -2.2285902477264403 | Iter 2.000: -2.28942849855423 | Iter 1.000: -2.3109769294738767<br>Resources requested: 2/6 CPUs, 1/1 GPUs, 0.0/29.15 GiB heap, 0.0/10.06 GiB objects (0/1.0 accelerator_type:K80)<br>Current best trial: 9981d_00001 with loss=1.964670591545105 and parameters={'l1': 4, 'l2': 4, 'lr': 0.00013096774493777635, 'batch_size': 16}<br>Result logdir: /home/azureuser/ray_results/_inner_2021-05-20_18-17-13<br>Number of trials: 3/10 (1 PENDING, 1 RUNNING, 1 TERMINATED)<br><br>"
      ],
      "text/plain": [
       "<IPython.core.display.HTML object>"
      ]
     },
     "metadata": {},
     "output_type": "display_data"
    },
    {
     "name": "stdout",
     "output_type": "stream",
     "text": [
      "Trial _inner_9981d_00001 reported loss=1.94 with parameters={'l1': 4, 'l2': 4, 'lr': 0.00013096774493777635, 'batch_size': 16}. This trial completed.\n"
     ]
    },
    {
     "data": {
      "text/html": [
       "== Status ==<br>Memory usage on this node: 8.3/55.0 GiB<br>Using AsyncHyperBand: num_stopped=2\n",
       "Bracket: Iter 8.000: -2.1494565459251405 | Iter 4.000: -2.2285902477264403 | Iter 2.000: -2.28942849855423 | Iter 1.000: -2.3109769294738767<br>Resources requested: 0/6 CPUs, 0/1 GPUs, 0.0/29.15 GiB heap, 0.0/10.06 GiB objects (0/1.0 accelerator_type:K80)<br>Current best trial: 9981d_00001 with loss=1.9358833526611328 and parameters={'l1': 4, 'l2': 4, 'lr': 0.00013096774493777635, 'batch_size': 16}<br>Result logdir: /home/azureuser/ray_results/_inner_2021-05-20_18-17-13<br>Number of trials: 3/10 (1 PENDING, 2 TERMINATED)<br><br>"
      ],
      "text/plain": [
       "<IPython.core.display.HTML object>"
      ]
     },
     "metadata": {},
     "output_type": "display_data"
    },
    {
     "name": "stdout",
     "output_type": "stream",
     "text": [
      "Trial _inner_9981d_00002 reported loss=2.31 with parameters={'l1': 8, 'l2': 4, 'lr': 0.0001972606689184097, 'batch_size': 8}.\n"
     ]
    },
    {
     "data": {
      "text/html": [
       "== Status ==<br>Memory usage on this node: 8.5/55.0 GiB<br>Using AsyncHyperBand: num_stopped=2\n",
       "Bracket: Iter 8.000: -2.1494565459251405 | Iter 4.000: -2.2285902477264403 | Iter 2.000: -2.28942849855423 | Iter 1.000: -2.3069619724273682<br>Resources requested: 2/6 CPUs, 1/1 GPUs, 0.0/29.15 GiB heap, 0.0/10.06 GiB objects (0/1.0 accelerator_type:K80)<br>Current best trial: 9981d_00001 with loss=1.9358833526611328 and parameters={'l1': 4, 'l2': 4, 'lr': 0.00013096774493777635, 'batch_size': 16}<br>Result logdir: /home/azureuser/ray_results/_inner_2021-05-20_18-17-13<br>Number of trials: 4/10 (1 PENDING, 1 RUNNING, 2 TERMINATED)<br><br>"
      ],
      "text/plain": [
       "<IPython.core.display.HTML object>"
      ]
     },
     "metadata": {},
     "output_type": "display_data"
    },
    {
     "name": "stdout",
     "output_type": "stream",
     "text": [
      "Trial _inner_9981d_00002 reported loss=2.30 with parameters={'l1': 8, 'l2': 4, 'lr': 0.0001972606689184097, 'batch_size': 8}. This trial completed.\n"
     ]
    },
    {
     "data": {
      "text/html": [
       "== Status ==<br>Memory usage on this node: 8.3/55.0 GiB<br>Using AsyncHyperBand: num_stopped=3\n",
       "Bracket: Iter 8.000: -2.1494565459251405 | Iter 4.000: -2.2285902477264403 | Iter 2.000: -2.3013280225753783 | Iter 1.000: -2.3069619724273682<br>Resources requested: 0/6 CPUs, 0/1 GPUs, 0.0/29.15 GiB heap, 0.0/10.06 GiB objects (0/1.0 accelerator_type:K80)<br>Current best trial: 9981d_00001 with loss=1.9358833526611328 and parameters={'l1': 4, 'l2': 4, 'lr': 0.00013096774493777635, 'batch_size': 16}<br>Result logdir: /home/azureuser/ray_results/_inner_2021-05-20_18-17-13<br>Number of trials: 4/10 (1 PENDING, 3 TERMINATED)<br><br>"
      ],
      "text/plain": [
       "<IPython.core.display.HTML object>"
      ]
     },
     "metadata": {},
     "output_type": "display_data"
    },
    {
     "name": "stdout",
     "output_type": "stream",
     "text": [
      "Trial _inner_9981d_00003 reported loss=1.88 with parameters={'l1': 128, 'l2': 8, 'lr': 0.003976453011700045, 'batch_size': 2}.\n"
     ]
    },
    {
     "data": {
      "text/html": [
       "== Status ==<br>Memory usage on this node: 8.5/55.0 GiB<br>Using AsyncHyperBand: num_stopped=3\n",
       "Bracket: Iter 8.000: -2.1494565459251405 | Iter 4.000: -2.2285902477264403 | Iter 2.000: -2.3013280225753783 | Iter 1.000: -2.3061259614944456<br>Resources requested: 2/6 CPUs, 1/1 GPUs, 0.0/29.15 GiB heap, 0.0/10.06 GiB objects (0/1.0 accelerator_type:K80)<br>Current best trial: 9981d_00003 with loss=1.8841433606922626 and parameters={'l1': 128, 'l2': 8, 'lr': 0.003976453011700045, 'batch_size': 2}<br>Result logdir: /home/azureuser/ray_results/_inner_2021-05-20_18-17-13<br>Number of trials: 5/10 (1 PENDING, 1 RUNNING, 3 TERMINATED)<br><br>"
      ],
      "text/plain": [
       "<IPython.core.display.HTML object>"
      ]
     },
     "metadata": {},
     "output_type": "display_data"
    },
    {
     "name": "stdout",
     "output_type": "stream",
     "text": [
      "Trial _inner_9981d_00003 reported loss=1.90 with parameters={'l1': 128, 'l2': 8, 'lr': 0.003976453011700045, 'batch_size': 2}.\n"
     ]
    },
    {
     "data": {
      "text/html": [
       "== Status ==<br>Memory usage on this node: 8.5/55.0 GiB<br>Using AsyncHyperBand: num_stopped=3\n",
       "Bracket: Iter 8.000: -2.1494565459251405 | Iter 4.000: -2.2285902477264403 | Iter 2.000: -2.2826000321388245 | Iter 1.000: -2.3061259614944456<br>Resources requested: 2/6 CPUs, 1/1 GPUs, 0.0/29.15 GiB heap, 0.0/10.06 GiB objects (0/1.0 accelerator_type:K80)<br>Current best trial: 9981d_00003 with loss=1.9026511869587004 and parameters={'l1': 128, 'l2': 8, 'lr': 0.003976453011700045, 'batch_size': 2}<br>Result logdir: /home/azureuser/ray_results/_inner_2021-05-20_18-17-13<br>Number of trials: 5/10 (1 PENDING, 1 RUNNING, 3 TERMINATED)<br><br>"
      ],
      "text/plain": [
       "<IPython.core.display.HTML object>"
      ]
     },
     "metadata": {},
     "output_type": "display_data"
    },
    {
     "name": "stdout",
     "output_type": "stream",
     "text": [
      "Trial _inner_9981d_00003 reported loss=1.98 with parameters={'l1': 128, 'l2': 8, 'lr': 0.003976453011700045, 'batch_size': 2}.\n"
     ]
    },
    {
     "data": {
      "text/html": [
       "== Status ==<br>Memory usage on this node: 8.5/55.0 GiB<br>Using AsyncHyperBand: num_stopped=3\n",
       "Bracket: Iter 8.000: -2.1494565459251405 | Iter 4.000: -2.2285902477264403 | Iter 2.000: -2.2826000321388245 | Iter 1.000: -2.3061259614944456<br>Resources requested: 2/6 CPUs, 1/1 GPUs, 0.0/29.15 GiB heap, 0.0/10.06 GiB objects (0/1.0 accelerator_type:K80)<br>Current best trial: 9981d_00001 with loss=1.9358833526611328 and parameters={'l1': 4, 'l2': 4, 'lr': 0.00013096774493777635, 'batch_size': 16}<br>Result logdir: /home/azureuser/ray_results/_inner_2021-05-20_18-17-13<br>Number of trials: 5/10 (1 PENDING, 1 RUNNING, 3 TERMINATED)<br><br>"
      ],
      "text/plain": [
       "<IPython.core.display.HTML object>"
      ]
     },
     "metadata": {},
     "output_type": "display_data"
    },
    {
     "name": "stdout",
     "output_type": "stream",
     "text": [
      "Trial _inner_9981d_00003 reported loss=1.92 with parameters={'l1': 128, 'l2': 8, 'lr': 0.003976453011700045, 'batch_size': 2}.\n"
     ]
    },
    {
     "data": {
      "text/html": [
       "== Status ==<br>Memory usage on this node: 8.5/55.0 GiB<br>Using AsyncHyperBand: num_stopped=3\n",
       "Bracket: Iter 8.000: -2.1494565459251405 | Iter 4.000: -2.1379751487731933 | Iter 2.000: -2.2826000321388245 | Iter 1.000: -2.3061259614944456<br>Resources requested: 2/6 CPUs, 1/1 GPUs, 0.0/29.15 GiB heap, 0.0/10.06 GiB objects (0/1.0 accelerator_type:K80)<br>Current best trial: 9981d_00003 with loss=1.921718802267313 and parameters={'l1': 128, 'l2': 8, 'lr': 0.003976453011700045, 'batch_size': 2}<br>Result logdir: /home/azureuser/ray_results/_inner_2021-05-20_18-17-13<br>Number of trials: 5/10 (1 PENDING, 1 RUNNING, 3 TERMINATED)<br><br>"
      ],
      "text/plain": [
       "<IPython.core.display.HTML object>"
      ]
     },
     "metadata": {},
     "output_type": "display_data"
    },
    {
     "name": "stdout",
     "output_type": "stream",
     "text": [
      "Trial _inner_9981d_00003 reported loss=2.09 with parameters={'l1': 128, 'l2': 8, 'lr': 0.003976453011700045, 'batch_size': 2}.\n"
     ]
    },
    {
     "data": {
      "text/html": [
       "== Status ==<br>Memory usage on this node: 8.5/55.0 GiB<br>Using AsyncHyperBand: num_stopped=3\n",
       "Bracket: Iter 8.000: -2.1494565459251405 | Iter 4.000: -2.1379751487731933 | Iter 2.000: -2.2826000321388245 | Iter 1.000: -2.3061259614944456<br>Resources requested: 2/6 CPUs, 1/1 GPUs, 0.0/29.15 GiB heap, 0.0/10.06 GiB objects (0/1.0 accelerator_type:K80)<br>Current best trial: 9981d_00001 with loss=1.9358833526611328 and parameters={'l1': 4, 'l2': 4, 'lr': 0.00013096774493777635, 'batch_size': 16}<br>Result logdir: /home/azureuser/ray_results/_inner_2021-05-20_18-17-13<br>Number of trials: 5/10 (1 PENDING, 1 RUNNING, 3 TERMINATED)<br><br>"
      ],
      "text/plain": [
       "<IPython.core.display.HTML object>"
      ]
     },
     "metadata": {},
     "output_type": "display_data"
    },
    {
     "name": "stdout",
     "output_type": "stream",
     "text": [
      "Trial _inner_9981d_00003 reported loss=1.98 with parameters={'l1': 128, 'l2': 8, 'lr': 0.003976453011700045, 'batch_size': 2}.\n"
     ]
    },
    {
     "data": {
      "text/html": [
       "== Status ==<br>Memory usage on this node: 8.5/55.0 GiB<br>Using AsyncHyperBand: num_stopped=3\n",
       "Bracket: Iter 8.000: -2.1494565459251405 | Iter 4.000: -2.1379751487731933 | Iter 2.000: -2.2826000321388245 | Iter 1.000: -2.3061259614944456<br>Resources requested: 2/6 CPUs, 1/1 GPUs, 0.0/29.15 GiB heap, 0.0/10.06 GiB objects (0/1.0 accelerator_type:K80)<br>Current best trial: 9981d_00001 with loss=1.9358833526611328 and parameters={'l1': 4, 'l2': 4, 'lr': 0.00013096774493777635, 'batch_size': 16}<br>Result logdir: /home/azureuser/ray_results/_inner_2021-05-20_18-17-13<br>Number of trials: 5/10 (1 PENDING, 1 RUNNING, 3 TERMINATED)<br><br>"
      ],
      "text/plain": [
       "<IPython.core.display.HTML object>"
      ]
     },
     "metadata": {},
     "output_type": "display_data"
    },
    {
     "name": "stdout",
     "output_type": "stream",
     "text": [
      "Trial _inner_9981d_00003 reported loss=2.00 with parameters={'l1': 128, 'l2': 8, 'lr': 0.003976453011700045, 'batch_size': 2}.\n"
     ]
    },
    {
     "data": {
      "text/html": [
       "== Status ==<br>Memory usage on this node: 8.5/55.0 GiB<br>Using AsyncHyperBand: num_stopped=3\n",
       "Bracket: Iter 8.000: -2.1494565459251405 | Iter 4.000: -2.1379751487731933 | Iter 2.000: -2.2826000321388245 | Iter 1.000: -2.3061259614944456<br>Resources requested: 2/6 CPUs, 1/1 GPUs, 0.0/29.15 GiB heap, 0.0/10.06 GiB objects (0/1.0 accelerator_type:K80)<br>Current best trial: 9981d_00001 with loss=1.9358833526611328 and parameters={'l1': 4, 'l2': 4, 'lr': 0.00013096774493777635, 'batch_size': 16}<br>Result logdir: /home/azureuser/ray_results/_inner_2021-05-20_18-17-13<br>Number of trials: 5/10 (1 PENDING, 1 RUNNING, 3 TERMINATED)<br><br>"
      ],
      "text/plain": [
       "<IPython.core.display.HTML object>"
      ]
     },
     "metadata": {},
     "output_type": "display_data"
    },
    {
     "name": "stdout",
     "output_type": "stream",
     "text": [
      "Trial _inner_9981d_00003 reported loss=2.16 with parameters={'l1': 128, 'l2': 8, 'lr': 0.003976453011700045, 'batch_size': 2}. This trial completed.\n"
     ]
    },
    {
     "data": {
      "text/html": [
       "== Status ==<br>Memory usage on this node: 8.4/55.0 GiB<br>Using AsyncHyperBand: num_stopped=4\n",
       "Bracket: Iter 8.000: -2.155616689038277 | Iter 4.000: -2.1379751487731933 | Iter 2.000: -2.2826000321388245 | Iter 1.000: -2.3061259614944456<br>Resources requested: 0/6 CPUs, 0/1 GPUs, 0.0/29.15 GiB heap, 0.0/10.06 GiB objects (0/1.0 accelerator_type:K80)<br>Current best trial: 9981d_00001 with loss=1.9358833526611328 and parameters={'l1': 4, 'l2': 4, 'lr': 0.00013096774493777635, 'batch_size': 16}<br>Result logdir: /home/azureuser/ray_results/_inner_2021-05-20_18-17-13<br>Number of trials: 5/10 (1 PENDING, 4 TERMINATED)<br><br>"
      ],
      "text/plain": [
       "<IPython.core.display.HTML object>"
      ]
     },
     "metadata": {},
     "output_type": "display_data"
    },
    {
     "name": "stdout",
     "output_type": "stream",
     "text": [
      "Trial _inner_9981d_00004 reported loss=2.31 with parameters={'l1': 8, 'l2': 32, 'lr': 0.011468398705751589, 'batch_size': 4}. This trial completed.\n"
     ]
    },
    {
     "data": {
      "text/html": [
       "== Status ==<br>Memory usage on this node: 8.3/55.0 GiB<br>Using AsyncHyperBand: num_stopped=5\n",
       "Bracket: Iter 8.000: -2.155616689038277 | Iter 4.000: -2.1379751487731933 | Iter 2.000: -2.2826000321388245 | Iter 1.000: -2.3069619724273682<br>Resources requested: 0/6 CPUs, 0/1 GPUs, 0.0/29.15 GiB heap, 0.0/10.06 GiB objects (0/1.0 accelerator_type:K80)<br>Current best trial: 9981d_00001 with loss=1.9358833526611328 and parameters={'l1': 4, 'l2': 4, 'lr': 0.00013096774493777635, 'batch_size': 16}<br>Result logdir: /home/azureuser/ray_results/_inner_2021-05-20_18-17-13<br>Number of trials: 6/10 (1 PENDING, 5 TERMINATED)<br><br>"
      ],
      "text/plain": [
       "<IPython.core.display.HTML object>"
      ]
     },
     "metadata": {},
     "output_type": "display_data"
    },
    {
     "name": "stdout",
     "output_type": "stream",
     "text": [
      "Trial _inner_9981d_00005 reported loss=2.30 with parameters={'l1': 128, 'l2': 32, 'lr': 0.017800530470464978, 'batch_size': 4}.\n"
     ]
    },
    {
     "data": {
      "text/html": [
       "== Status ==<br>Memory usage on this node: 8.5/55.0 GiB<br>Using AsyncHyperBand: num_stopped=5\n",
       "Bracket: Iter 8.000: -2.155616689038277 | Iter 4.000: -2.1379751487731933 | Iter 2.000: -2.2826000321388245 | Iter 1.000: -2.3061259614944456<br>Resources requested: 2/6 CPUs, 1/1 GPUs, 0.0/29.15 GiB heap, 0.0/10.06 GiB objects (0/1.0 accelerator_type:K80)<br>Current best trial: 9981d_00001 with loss=1.9358833526611328 and parameters={'l1': 4, 'l2': 4, 'lr': 0.00013096774493777635, 'batch_size': 16}<br>Result logdir: /home/azureuser/ray_results/_inner_2021-05-20_18-17-13<br>Number of trials: 7/10 (1 PENDING, 1 RUNNING, 5 TERMINATED)<br><br>"
      ],
      "text/plain": [
       "<IPython.core.display.HTML object>"
      ]
     },
     "metadata": {},
     "output_type": "display_data"
    },
    {
     "name": "stdout",
     "output_type": "stream",
     "text": [
      "Trial _inner_9981d_00005 reported loss=2.31 with parameters={'l1': 128, 'l2': 32, 'lr': 0.017800530470464978, 'batch_size': 4}. This trial completed.\n"
     ]
    },
    {
     "data": {
      "text/html": [
       "== Status ==<br>Memory usage on this node: 8.3/55.0 GiB<br>Using AsyncHyperBand: num_stopped=6\n",
       "Bracket: Iter 8.000: -2.155616689038277 | Iter 4.000: -2.1379751487731933 | Iter 2.000: -2.3013280225753783 | Iter 1.000: -2.3061259614944456<br>Resources requested: 0/6 CPUs, 0/1 GPUs, 0.0/29.15 GiB heap, 0.0/10.06 GiB objects (0/1.0 accelerator_type:K80)<br>Current best trial: 9981d_00001 with loss=1.9358833526611328 and parameters={'l1': 4, 'l2': 4, 'lr': 0.00013096774493777635, 'batch_size': 16}<br>Result logdir: /home/azureuser/ray_results/_inner_2021-05-20_18-17-13<br>Number of trials: 7/10 (1 PENDING, 6 TERMINATED)<br><br>"
      ],
      "text/plain": [
       "<IPython.core.display.HTML object>"
      ]
     },
     "metadata": {},
     "output_type": "display_data"
    },
    {
     "name": "stdout",
     "output_type": "stream",
     "text": [
      "Trial _inner_9981d_00006 reported loss=1.73 with parameters={'l1': 64, 'l2': 8, 'lr': 0.0006939560657240752, 'batch_size': 8}.\n"
     ]
    },
    {
     "data": {
      "text/html": [
       "== Status ==<br>Memory usage on this node: 8.5/55.0 GiB<br>Using AsyncHyperBand: num_stopped=6\n",
       "Bracket: Iter 8.000: -2.155616689038277 | Iter 4.000: -2.1379751487731933 | Iter 2.000: -2.3013280225753783 | Iter 1.000: -2.3052899505615234<br>Resources requested: 2/6 CPUs, 1/1 GPUs, 0.0/29.15 GiB heap, 0.0/10.06 GiB objects (0/1.0 accelerator_type:K80)<br>Current best trial: 9981d_00006 with loss=1.72672680683136 and parameters={'l1': 64, 'l2': 8, 'lr': 0.0006939560657240752, 'batch_size': 8}<br>Result logdir: /home/azureuser/ray_results/_inner_2021-05-20_18-17-13<br>Number of trials: 8/10 (1 PENDING, 1 RUNNING, 6 TERMINATED)<br><br>"
      ],
      "text/plain": [
       "<IPython.core.display.HTML object>"
      ]
     },
     "metadata": {},
     "output_type": "display_data"
    },
    {
     "name": "stdout",
     "output_type": "stream",
     "text": [
      "Trial _inner_9981d_00006 reported loss=1.48 with parameters={'l1': 64, 'l2': 8, 'lr': 0.0006939560657240752, 'batch_size': 8}.\n"
     ]
    },
    {
     "data": {
      "text/html": [
       "== Status ==<br>Memory usage on this node: 8.5/55.0 GiB<br>Using AsyncHyperBand: num_stopped=6\n",
       "Bracket: Iter 8.000: -2.155616689038277 | Iter 4.000: -2.1379751487731933 | Iter 2.000: -2.2826000321388245 | Iter 1.000: -2.3052899505615234<br>Resources requested: 2/6 CPUs, 1/1 GPUs, 0.0/29.15 GiB heap, 0.0/10.06 GiB objects (0/1.0 accelerator_type:K80)<br>Current best trial: 9981d_00006 with loss=1.4758715875148773 and parameters={'l1': 64, 'l2': 8, 'lr': 0.0006939560657240752, 'batch_size': 8}<br>Result logdir: /home/azureuser/ray_results/_inner_2021-05-20_18-17-13<br>Number of trials: 8/10 (1 PENDING, 1 RUNNING, 6 TERMINATED)<br><br>"
      ],
      "text/plain": [
       "<IPython.core.display.HTML object>"
      ]
     },
     "metadata": {},
     "output_type": "display_data"
    },
    {
     "name": "stdout",
     "output_type": "stream",
     "text": [
      "Trial _inner_9981d_00006 reported loss=1.43 with parameters={'l1': 64, 'l2': 8, 'lr': 0.0006939560657240752, 'batch_size': 8}.\n"
     ]
    },
    {
     "data": {
      "text/html": [
       "== Status ==<br>Memory usage on this node: 8.5/55.0 GiB<br>Using AsyncHyperBand: num_stopped=6\n",
       "Bracket: Iter 8.000: -2.155616689038277 | Iter 4.000: -2.1379751487731933 | Iter 2.000: -2.2826000321388245 | Iter 1.000: -2.3052899505615234<br>Resources requested: 2/6 CPUs, 1/1 GPUs, 0.0/29.15 GiB heap, 0.0/10.06 GiB objects (0/1.0 accelerator_type:K80)<br>Current best trial: 9981d_00006 with loss=1.4323772208690644 and parameters={'l1': 64, 'l2': 8, 'lr': 0.0006939560657240752, 'batch_size': 8}<br>Result logdir: /home/azureuser/ray_results/_inner_2021-05-20_18-17-13<br>Number of trials: 8/10 (1 PENDING, 1 RUNNING, 6 TERMINATED)<br><br>"
      ],
      "text/plain": [
       "<IPython.core.display.HTML object>"
      ]
     },
     "metadata": {},
     "output_type": "display_data"
    },
    {
     "name": "stdout",
     "output_type": "stream",
     "text": [
      "Trial _inner_9981d_00006 reported loss=1.32 with parameters={'l1': 64, 'l2': 8, 'lr': 0.0006939560657240752, 'batch_size': 8}.\n"
     ]
    },
    {
     "data": {
      "text/html": [
       "== Status ==<br>Memory usage on this node: 8.5/55.0 GiB<br>Using AsyncHyperBand: num_stopped=6\n",
       "Bracket: Iter 8.000: -2.155616689038277 | Iter 4.000: -2.029846975520253 | Iter 2.000: -2.2826000321388245 | Iter 1.000: -2.3052899505615234<br>Resources requested: 2/6 CPUs, 1/1 GPUs, 0.0/29.15 GiB heap, 0.0/10.06 GiB objects (0/1.0 accelerator_type:K80)<br>Current best trial: 9981d_00006 with loss=1.316908794784546 and parameters={'l1': 64, 'l2': 8, 'lr': 0.0006939560657240752, 'batch_size': 8}<br>Result logdir: /home/azureuser/ray_results/_inner_2021-05-20_18-17-13<br>Number of trials: 8/10 (1 PENDING, 1 RUNNING, 6 TERMINATED)<br><br>"
      ],
      "text/plain": [
       "<IPython.core.display.HTML object>"
      ]
     },
     "metadata": {},
     "output_type": "display_data"
    },
    {
     "name": "stdout",
     "output_type": "stream",
     "text": [
      "Trial _inner_9981d_00006 reported loss=1.28 with parameters={'l1': 64, 'l2': 8, 'lr': 0.0006939560657240752, 'batch_size': 8}.\n"
     ]
    },
    {
     "data": {
      "text/html": [
       "== Status ==<br>Memory usage on this node: 8.5/55.0 GiB<br>Using AsyncHyperBand: num_stopped=6\n",
       "Bracket: Iter 8.000: -2.155616689038277 | Iter 4.000: -2.029846975520253 | Iter 2.000: -2.2826000321388245 | Iter 1.000: -2.3052899505615234<br>Resources requested: 2/6 CPUs, 1/1 GPUs, 0.0/29.15 GiB heap, 0.0/10.06 GiB objects (0/1.0 accelerator_type:K80)<br>Current best trial: 9981d_00006 with loss=1.2753578794240952 and parameters={'l1': 64, 'l2': 8, 'lr': 0.0006939560657240752, 'batch_size': 8}<br>Result logdir: /home/azureuser/ray_results/_inner_2021-05-20_18-17-13<br>Number of trials: 8/10 (1 PENDING, 1 RUNNING, 6 TERMINATED)<br><br>"
      ],
      "text/plain": [
       "<IPython.core.display.HTML object>"
      ]
     },
     "metadata": {},
     "output_type": "display_data"
    },
    {
     "name": "stdout",
     "output_type": "stream",
     "text": [
      "Trial _inner_9981d_00006 reported loss=1.21 with parameters={'l1': 64, 'l2': 8, 'lr': 0.0006939560657240752, 'batch_size': 8}.\n"
     ]
    },
    {
     "data": {
      "text/html": [
       "== Status ==<br>Memory usage on this node: 8.5/55.0 GiB<br>Using AsyncHyperBand: num_stopped=6\n",
       "Bracket: Iter 8.000: -2.155616689038277 | Iter 4.000: -2.029846975520253 | Iter 2.000: -2.2826000321388245 | Iter 1.000: -2.3052899505615234<br>Resources requested: 2/6 CPUs, 1/1 GPUs, 0.0/29.15 GiB heap, 0.0/10.06 GiB objects (0/1.0 accelerator_type:K80)<br>Current best trial: 9981d_00006 with loss=1.2100822200536727 and parameters={'l1': 64, 'l2': 8, 'lr': 0.0006939560657240752, 'batch_size': 8}<br>Result logdir: /home/azureuser/ray_results/_inner_2021-05-20_18-17-13<br>Number of trials: 8/10 (1 PENDING, 1 RUNNING, 6 TERMINATED)<br><br>"
      ],
      "text/plain": [
       "<IPython.core.display.HTML object>"
      ]
     },
     "metadata": {},
     "output_type": "display_data"
    },
    {
     "name": "stdout",
     "output_type": "stream",
     "text": [
      "Trial _inner_9981d_00006 reported loss=1.24 with parameters={'l1': 64, 'l2': 8, 'lr': 0.0006939560657240752, 'batch_size': 8}.\n"
     ]
    },
    {
     "data": {
      "text/html": [
       "== Status ==<br>Memory usage on this node: 8.5/55.0 GiB<br>Using AsyncHyperBand: num_stopped=6\n",
       "Bracket: Iter 8.000: -2.155616689038277 | Iter 4.000: -2.029846975520253 | Iter 2.000: -2.2826000321388245 | Iter 1.000: -2.3052899505615234<br>Resources requested: 2/6 CPUs, 1/1 GPUs, 0.0/29.15 GiB heap, 0.0/10.06 GiB objects (0/1.0 accelerator_type:K80)<br>Current best trial: 9981d_00006 with loss=1.2387172745466233 and parameters={'l1': 64, 'l2': 8, 'lr': 0.0006939560657240752, 'batch_size': 8}<br>Result logdir: /home/azureuser/ray_results/_inner_2021-05-20_18-17-13<br>Number of trials: 8/10 (1 PENDING, 1 RUNNING, 6 TERMINATED)<br><br>"
      ],
      "text/plain": [
       "<IPython.core.display.HTML object>"
      ]
     },
     "metadata": {},
     "output_type": "display_data"
    },
    {
     "name": "stdout",
     "output_type": "stream",
     "text": [
      "Trial _inner_9981d_00006 reported loss=1.18 with parameters={'l1': 64, 'l2': 8, 'lr': 0.0006939560657240752, 'batch_size': 8}.\n"
     ]
    },
    {
     "data": {
      "text/html": [
       "== Status ==<br>Memory usage on this node: 8.5/55.0 GiB<br>Using AsyncHyperBand: num_stopped=6\n",
       "Bracket: Iter 8.000: -2.0692154166817667 | Iter 4.000: -2.029846975520253 | Iter 2.000: -2.2826000321388245 | Iter 1.000: -2.3052899505615234<br>Resources requested: 2/6 CPUs, 1/1 GPUs, 0.0/29.15 GiB heap, 0.0/10.06 GiB objects (0/1.0 accelerator_type:K80)<br>Current best trial: 9981d_00006 with loss=1.1798014454841614 and parameters={'l1': 64, 'l2': 8, 'lr': 0.0006939560657240752, 'batch_size': 8}<br>Result logdir: /home/azureuser/ray_results/_inner_2021-05-20_18-17-13<br>Number of trials: 8/10 (1 PENDING, 1 RUNNING, 6 TERMINATED)<br><br>"
      ],
      "text/plain": [
       "<IPython.core.display.HTML object>"
      ]
     },
     "metadata": {},
     "output_type": "display_data"
    },
    {
     "name": "stdout",
     "output_type": "stream",
     "text": [
      "Trial _inner_9981d_00006 reported loss=1.20 with parameters={'l1': 64, 'l2': 8, 'lr': 0.0006939560657240752, 'batch_size': 8}.\n"
     ]
    },
    {
     "data": {
      "text/html": [
       "== Status ==<br>Memory usage on this node: 8.5/55.0 GiB<br>Using AsyncHyperBand: num_stopped=6\n",
       "Bracket: Iter 8.000: -2.0692154166817667 | Iter 4.000: -2.029846975520253 | Iter 2.000: -2.2826000321388245 | Iter 1.000: -2.3052899505615234<br>Resources requested: 2/6 CPUs, 1/1 GPUs, 0.0/29.15 GiB heap, 0.0/10.06 GiB objects (0/1.0 accelerator_type:K80)<br>Current best trial: 9981d_00006 with loss=1.1959300523877143 and parameters={'l1': 64, 'l2': 8, 'lr': 0.0006939560657240752, 'batch_size': 8}<br>Result logdir: /home/azureuser/ray_results/_inner_2021-05-20_18-17-13<br>Number of trials: 8/10 (1 PENDING, 1 RUNNING, 6 TERMINATED)<br><br>"
      ],
      "text/plain": [
       "<IPython.core.display.HTML object>"
      ]
     },
     "metadata": {},
     "output_type": "display_data"
    },
    {
     "name": "stdout",
     "output_type": "stream",
     "text": [
      "Trial _inner_9981d_00006 reported loss=1.17 with parameters={'l1': 64, 'l2': 8, 'lr': 0.0006939560657240752, 'batch_size': 8}. This trial completed.\n"
     ]
    },
    {
     "data": {
      "text/html": [
       "== Status ==<br>Memory usage on this node: 8.3/55.0 GiB<br>Using AsyncHyperBand: num_stopped=7\n",
       "Bracket: Iter 8.000: -2.0692154166817667 | Iter 4.000: -2.029846975520253 | Iter 2.000: -2.2826000321388245 | Iter 1.000: -2.3052899505615234<br>Resources requested: 0/6 CPUs, 0/1 GPUs, 0.0/29.15 GiB heap, 0.0/10.06 GiB objects (0/1.0 accelerator_type:K80)<br>Current best trial: 9981d_00006 with loss=1.1721528250813484 and parameters={'l1': 64, 'l2': 8, 'lr': 0.0006939560657240752, 'batch_size': 8}<br>Result logdir: /home/azureuser/ray_results/_inner_2021-05-20_18-17-13<br>Number of trials: 8/10 (1 PENDING, 7 TERMINATED)<br><br>"
      ],
      "text/plain": [
       "<IPython.core.display.HTML object>"
      ]
     },
     "metadata": {},
     "output_type": "display_data"
    },
    {
     "name": "stdout",
     "output_type": "stream",
     "text": [
      "Trial _inner_9981d_00007 reported loss=1.74 with parameters={'l1': 16, 'l2': 8, 'lr': 0.0022063813533788872, 'batch_size': 16}.\n"
     ]
    },
    {
     "data": {
      "text/html": [
       "== Status ==<br>Memory usage on this node: 8.5/55.0 GiB<br>Using AsyncHyperBand: num_stopped=7\n",
       "Bracket: Iter 8.000: -2.0692154166817667 | Iter 4.000: -2.029846975520253 | Iter 2.000: -2.2826000321388245 | Iter 1.000: -2.3009090214967727<br>Resources requested: 2/6 CPUs, 1/1 GPUs, 0.0/29.15 GiB heap, 0.0/10.06 GiB objects (0/1.0 accelerator_type:K80)<br>Current best trial: 9981d_00006 with loss=1.1721528250813484 and parameters={'l1': 64, 'l2': 8, 'lr': 0.0006939560657240752, 'batch_size': 8}<br>Result logdir: /home/azureuser/ray_results/_inner_2021-05-20_18-17-13<br>Number of trials: 9/10 (1 PENDING, 1 RUNNING, 7 TERMINATED)<br><br>"
      ],
      "text/plain": [
       "<IPython.core.display.HTML object>"
      ]
     },
     "metadata": {},
     "output_type": "display_data"
    },
    {
     "name": "stdout",
     "output_type": "stream",
     "text": [
      "Trial _inner_9981d_00007 reported loss=1.49 with parameters={'l1': 16, 'l2': 8, 'lr': 0.0022063813533788872, 'batch_size': 16}.\n"
     ]
    },
    {
     "data": {
      "text/html": [
       "== Status ==<br>Memory usage on this node: 8.5/55.0 GiB<br>Using AsyncHyperBand: num_stopped=7\n",
       "Bracket: Iter 8.000: -2.0692154166817667 | Iter 4.000: -2.029846975520253 | Iter 2.000: -2.2638720417022706 | Iter 1.000: -2.3009090214967727<br>Resources requested: 2/6 CPUs, 1/1 GPUs, 0.0/29.15 GiB heap, 0.0/10.06 GiB objects (0/1.0 accelerator_type:K80)<br>Current best trial: 9981d_00006 with loss=1.1721528250813484 and parameters={'l1': 64, 'l2': 8, 'lr': 0.0006939560657240752, 'batch_size': 8}<br>Result logdir: /home/azureuser/ray_results/_inner_2021-05-20_18-17-13<br>Number of trials: 9/10 (1 PENDING, 1 RUNNING, 7 TERMINATED)<br><br>"
      ],
      "text/plain": [
       "<IPython.core.display.HTML object>"
      ]
     },
     "metadata": {},
     "output_type": "display_data"
    },
    {
     "name": "stdout",
     "output_type": "stream",
     "text": [
      "Trial _inner_9981d_00007 reported loss=1.43 with parameters={'l1': 16, 'l2': 8, 'lr': 0.0022063813533788872, 'batch_size': 16}.\n"
     ]
    },
    {
     "data": {
      "text/html": [
       "== Status ==<br>Memory usage on this node: 8.5/55.0 GiB<br>Using AsyncHyperBand: num_stopped=7\n",
       "Bracket: Iter 8.000: -2.0692154166817667 | Iter 4.000: -2.029846975520253 | Iter 2.000: -2.2638720417022706 | Iter 1.000: -2.3009090214967727<br>Resources requested: 2/6 CPUs, 1/1 GPUs, 0.0/29.15 GiB heap, 0.0/10.06 GiB objects (0/1.0 accelerator_type:K80)<br>Current best trial: 9981d_00006 with loss=1.1721528250813484 and parameters={'l1': 64, 'l2': 8, 'lr': 0.0006939560657240752, 'batch_size': 8}<br>Result logdir: /home/azureuser/ray_results/_inner_2021-05-20_18-17-13<br>Number of trials: 9/10 (1 PENDING, 1 RUNNING, 7 TERMINATED)<br><br>"
      ],
      "text/plain": [
       "<IPython.core.display.HTML object>"
      ]
     },
     "metadata": {},
     "output_type": "display_data"
    },
    {
     "name": "stdout",
     "output_type": "stream",
     "text": [
      "Trial _inner_9981d_00007 reported loss=1.34 with parameters={'l1': 16, 'l2': 8, 'lr': 0.0022063813533788872, 'batch_size': 16}.\n"
     ]
    },
    {
     "data": {
      "text/html": [
       "== Status ==<br>Memory usage on this node: 8.5/55.0 GiB<br>Using AsyncHyperBand: num_stopped=7\n",
       "Bracket: Iter 8.000: -2.0692154166817667 | Iter 4.000: -1.921718802267313 | Iter 2.000: -2.2638720417022706 | Iter 1.000: -2.3009090214967727<br>Resources requested: 2/6 CPUs, 1/1 GPUs, 0.0/29.15 GiB heap, 0.0/10.06 GiB objects (0/1.0 accelerator_type:K80)<br>Current best trial: 9981d_00006 with loss=1.1721528250813484 and parameters={'l1': 64, 'l2': 8, 'lr': 0.0006939560657240752, 'batch_size': 8}<br>Result logdir: /home/azureuser/ray_results/_inner_2021-05-20_18-17-13<br>Number of trials: 9/10 (1 PENDING, 1 RUNNING, 7 TERMINATED)<br><br>"
      ],
      "text/plain": [
       "<IPython.core.display.HTML object>"
      ]
     },
     "metadata": {},
     "output_type": "display_data"
    },
    {
     "name": "stdout",
     "output_type": "stream",
     "text": [
      "Trial _inner_9981d_00007 reported loss=1.30 with parameters={'l1': 16, 'l2': 8, 'lr': 0.0022063813533788872, 'batch_size': 16}.\n"
     ]
    },
    {
     "data": {
      "text/html": [
       "== Status ==<br>Memory usage on this node: 8.5/55.0 GiB<br>Using AsyncHyperBand: num_stopped=7\n",
       "Bracket: Iter 8.000: -2.0692154166817667 | Iter 4.000: -1.921718802267313 | Iter 2.000: -2.2638720417022706 | Iter 1.000: -2.3009090214967727<br>Resources requested: 2/6 CPUs, 1/1 GPUs, 0.0/29.15 GiB heap, 0.0/10.06 GiB objects (0/1.0 accelerator_type:K80)<br>Current best trial: 9981d_00006 with loss=1.1721528250813484 and parameters={'l1': 64, 'l2': 8, 'lr': 0.0006939560657240752, 'batch_size': 8}<br>Result logdir: /home/azureuser/ray_results/_inner_2021-05-20_18-17-13<br>Number of trials: 9/10 (1 PENDING, 1 RUNNING, 7 TERMINATED)<br><br>"
      ],
      "text/plain": [
       "<IPython.core.display.HTML object>"
      ]
     },
     "metadata": {},
     "output_type": "display_data"
    },
    {
     "name": "stdout",
     "output_type": "stream",
     "text": [
      "Trial _inner_9981d_00007 reported loss=1.29 with parameters={'l1': 16, 'l2': 8, 'lr': 0.0022063813533788872, 'batch_size': 16}.\n"
     ]
    },
    {
     "data": {
      "text/html": [
       "== Status ==<br>Memory usage on this node: 8.5/55.0 GiB<br>Using AsyncHyperBand: num_stopped=7\n",
       "Bracket: Iter 8.000: -2.0692154166817667 | Iter 4.000: -1.921718802267313 | Iter 2.000: -2.2638720417022706 | Iter 1.000: -2.3009090214967727<br>Resources requested: 2/6 CPUs, 1/1 GPUs, 0.0/29.15 GiB heap, 0.0/10.06 GiB objects (0/1.0 accelerator_type:K80)<br>Current best trial: 9981d_00006 with loss=1.1721528250813484 and parameters={'l1': 64, 'l2': 8, 'lr': 0.0006939560657240752, 'batch_size': 8}<br>Result logdir: /home/azureuser/ray_results/_inner_2021-05-20_18-17-13<br>Number of trials: 9/10 (1 PENDING, 1 RUNNING, 7 TERMINATED)<br><br>"
      ],
      "text/plain": [
       "<IPython.core.display.HTML object>"
      ]
     },
     "metadata": {},
     "output_type": "display_data"
    },
    {
     "name": "stdout",
     "output_type": "stream",
     "text": [
      "Trial _inner_9981d_00007 reported loss=1.28 with parameters={'l1': 16, 'l2': 8, 'lr': 0.0022063813533788872, 'batch_size': 16}.\n"
     ]
    },
    {
     "data": {
      "text/html": [
       "== Status ==<br>Memory usage on this node: 8.5/55.0 GiB<br>Using AsyncHyperBand: num_stopped=7\n",
       "Bracket: Iter 8.000: -2.0692154166817667 | Iter 4.000: -1.921718802267313 | Iter 2.000: -2.2638720417022706 | Iter 1.000: -2.3009090214967727<br>Resources requested: 2/6 CPUs, 1/1 GPUs, 0.0/29.15 GiB heap, 0.0/10.06 GiB objects (0/1.0 accelerator_type:K80)<br>Current best trial: 9981d_00006 with loss=1.1721528250813484 and parameters={'l1': 64, 'l2': 8, 'lr': 0.0006939560657240752, 'batch_size': 8}<br>Result logdir: /home/azureuser/ray_results/_inner_2021-05-20_18-17-13<br>Number of trials: 9/10 (1 PENDING, 1 RUNNING, 7 TERMINATED)<br><br>"
      ],
      "text/plain": [
       "<IPython.core.display.HTML object>"
      ]
     },
     "metadata": {},
     "output_type": "display_data"
    },
    {
     "name": "stdout",
     "output_type": "stream",
     "text": [
      "Trial _inner_9981d_00007 reported loss=1.21 with parameters={'l1': 16, 'l2': 8, 'lr': 0.0022063813533788872, 'batch_size': 16}.\n"
     ]
    },
    {
     "data": {
      "text/html": [
       "== Status ==<br>Memory usage on this node: 8.5/55.0 GiB<br>Using AsyncHyperBand: num_stopped=7\n",
       "Bracket: Iter 8.000: -1.9828141443252563 | Iter 4.000: -1.921718802267313 | Iter 2.000: -2.2638720417022706 | Iter 1.000: -2.3009090214967727<br>Resources requested: 2/6 CPUs, 1/1 GPUs, 0.0/29.15 GiB heap, 0.0/10.06 GiB objects (0/1.0 accelerator_type:K80)<br>Current best trial: 9981d_00006 with loss=1.1721528250813484 and parameters={'l1': 64, 'l2': 8, 'lr': 0.0006939560657240752, 'batch_size': 8}<br>Result logdir: /home/azureuser/ray_results/_inner_2021-05-20_18-17-13<br>Number of trials: 9/10 (1 PENDING, 1 RUNNING, 7 TERMINATED)<br><br>"
      ],
      "text/plain": [
       "<IPython.core.display.HTML object>"
      ]
     },
     "metadata": {},
     "output_type": "display_data"
    },
    {
     "name": "stdout",
     "output_type": "stream",
     "text": [
      "Trial _inner_9981d_00007 reported loss=1.19 with parameters={'l1': 16, 'l2': 8, 'lr': 0.0022063813533788872, 'batch_size': 16}.\n"
     ]
    },
    {
     "data": {
      "text/html": [
       "== Status ==<br>Memory usage on this node: 8.5/55.0 GiB<br>Using AsyncHyperBand: num_stopped=7\n",
       "Bracket: Iter 8.000: -1.9828141443252563 | Iter 4.000: -1.921718802267313 | Iter 2.000: -2.2638720417022706 | Iter 1.000: -2.3009090214967727<br>Resources requested: 2/6 CPUs, 1/1 GPUs, 0.0/29.15 GiB heap, 0.0/10.06 GiB objects (0/1.0 accelerator_type:K80)<br>Current best trial: 9981d_00006 with loss=1.1721528250813484 and parameters={'l1': 64, 'l2': 8, 'lr': 0.0006939560657240752, 'batch_size': 8}<br>Result logdir: /home/azureuser/ray_results/_inner_2021-05-20_18-17-13<br>Number of trials: 9/10 (1 PENDING, 1 RUNNING, 7 TERMINATED)<br><br>"
      ],
      "text/plain": [
       "<IPython.core.display.HTML object>"
      ]
     },
     "metadata": {},
     "output_type": "display_data"
    },
    {
     "name": "stdout",
     "output_type": "stream",
     "text": [
      "Trial _inner_9981d_00007 reported loss=1.21 with parameters={'l1': 16, 'l2': 8, 'lr': 0.0022063813533788872, 'batch_size': 16}. This trial completed.\n"
     ]
    },
    {
     "data": {
      "text/html": [
       "== Status ==<br>Memory usage on this node: 8.3/55.0 GiB<br>Using AsyncHyperBand: num_stopped=8\n",
       "Bracket: Iter 8.000: -1.9828141443252563 | Iter 4.000: -1.921718802267313 | Iter 2.000: -2.2638720417022706 | Iter 1.000: -2.3009090214967727<br>Resources requested: 0/6 CPUs, 0/1 GPUs, 0.0/29.15 GiB heap, 0.0/10.06 GiB objects (0/1.0 accelerator_type:K80)<br>Current best trial: 9981d_00006 with loss=1.1721528250813484 and parameters={'l1': 64, 'l2': 8, 'lr': 0.0006939560657240752, 'batch_size': 8}<br>Result logdir: /home/azureuser/ray_results/_inner_2021-05-20_18-17-13<br>Number of trials: 9/10 (1 PENDING, 8 TERMINATED)<br><br>"
      ],
      "text/plain": [
       "<IPython.core.display.HTML object>"
      ]
     },
     "metadata": {},
     "output_type": "display_data"
    },
    {
     "name": "stderr",
     "output_type": "stream",
     "text": [
      "2021-05-20 18:45:54,710\tWARNING worker.py:1034 -- The actor or task with ID ffffffffffffffffc395bb3001000000 cannot be scheduled right now. It requires {GPU: 1.000000}, {CPU: 2.000000} for placement, but this node only has remaining {GPU: 1.000000}, {CPU: 6.000000}, {memory: 29.150391 GiB}, {object_store_memory: 10.058594 GiB}, {node:10.0.0.4: 1.000000}, {accelerator_type:K80: 1.000000}. In total there are 0 pending tasks and 1 pending actors on this node. This is likely due to all cluster resources being claimed by actors. To resolve the issue, consider creating fewer actors or increase the resources available to this Ray cluster. You can ignore this message if this Ray cluster is expected to auto-scale.\n"
     ]
    },
    {
     "name": "stdout",
     "output_type": "stream",
     "text": [
      "Trial _inner_9981d_00008 reported loss=1.81 with parameters={'l1': 256, 'l2': 128, 'lr': 0.00024551934474363265, 'batch_size': 4}.\n"
     ]
    },
    {
     "data": {
      "text/html": [
       "== Status ==<br>Memory usage on this node: 8.5/55.0 GiB<br>Using AsyncHyperBand: num_stopped=8\n",
       "Bracket: Iter 8.000: -1.9828141443252563 | Iter 4.000: -1.921718802267313 | Iter 2.000: -2.2638720417022706 | Iter 1.000: -2.296528092432022<br>Resources requested: 2/6 CPUs, 1/1 GPUs, 0.0/29.15 GiB heap, 0.0/10.06 GiB objects (0/1.0 accelerator_type:K80)<br>Current best trial: 9981d_00006 with loss=1.1721528250813484 and parameters={'l1': 64, 'l2': 8, 'lr': 0.0006939560657240752, 'batch_size': 8}<br>Result logdir: /home/azureuser/ray_results/_inner_2021-05-20_18-17-13<br>Number of trials: 10/10 (1 PENDING, 1 RUNNING, 8 TERMINATED)<br><br>"
      ],
      "text/plain": [
       "<IPython.core.display.HTML object>"
      ]
     },
     "metadata": {},
     "output_type": "display_data"
    },
    {
     "name": "stdout",
     "output_type": "stream",
     "text": [
      "Trial _inner_9981d_00008 reported loss=1.49 with parameters={'l1': 256, 'l2': 128, 'lr': 0.00024551934474363265, 'batch_size': 4}.\n"
     ]
    },
    {
     "data": {
      "text/html": [
       "== Status ==<br>Memory usage on this node: 8.5/55.0 GiB<br>Using AsyncHyperBand: num_stopped=8\n",
       "Bracket: Iter 8.000: -1.9828141443252563 | Iter 4.000: -1.921718802267313 | Iter 2.000: -2.0832616143304854 | Iter 1.000: -2.296528092432022<br>Resources requested: 2/6 CPUs, 1/1 GPUs, 0.0/29.15 GiB heap, 0.0/10.06 GiB objects (0/1.0 accelerator_type:K80)<br>Current best trial: 9981d_00006 with loss=1.1721528250813484 and parameters={'l1': 64, 'l2': 8, 'lr': 0.0006939560657240752, 'batch_size': 8}<br>Result logdir: /home/azureuser/ray_results/_inner_2021-05-20_18-17-13<br>Number of trials: 10/10 (1 PENDING, 1 RUNNING, 8 TERMINATED)<br><br>"
      ],
      "text/plain": [
       "<IPython.core.display.HTML object>"
      ]
     },
     "metadata": {},
     "output_type": "display_data"
    },
    {
     "name": "stdout",
     "output_type": "stream",
     "text": [
      "Trial _inner_9981d_00008 reported loss=1.42 with parameters={'l1': 256, 'l2': 128, 'lr': 0.00024551934474363265, 'batch_size': 4}.\n"
     ]
    },
    {
     "data": {
      "text/html": [
       "== Status ==<br>Memory usage on this node: 8.5/55.0 GiB<br>Using AsyncHyperBand: num_stopped=8\n",
       "Bracket: Iter 8.000: -1.9828141443252563 | Iter 4.000: -1.921718802267313 | Iter 2.000: -2.0832616143304854 | Iter 1.000: -2.296528092432022<br>Resources requested: 2/6 CPUs, 1/1 GPUs, 0.0/29.15 GiB heap, 0.0/10.06 GiB objects (0/1.0 accelerator_type:K80)<br>Current best trial: 9981d_00006 with loss=1.1721528250813484 and parameters={'l1': 64, 'l2': 8, 'lr': 0.0006939560657240752, 'batch_size': 8}<br>Result logdir: /home/azureuser/ray_results/_inner_2021-05-20_18-17-13<br>Number of trials: 10/10 (1 PENDING, 1 RUNNING, 8 TERMINATED)<br><br>"
      ],
      "text/plain": [
       "<IPython.core.display.HTML object>"
      ]
     },
     "metadata": {},
     "output_type": "display_data"
    },
    {
     "name": "stdout",
     "output_type": "stream",
     "text": [
      "Trial _inner_9981d_00008 reported loss=1.30 with parameters={'l1': 256, 'l2': 128, 'lr': 0.00024551934474363265, 'batch_size': 4}.\n"
     ]
    },
    {
     "data": {
      "text/html": [
       "== Status ==<br>Memory usage on this node: 8.5/55.0 GiB<br>Using AsyncHyperBand: num_stopped=8\n",
       "Bracket: Iter 8.000: -1.9828141443252563 | Iter 4.000: -1.632986307385564 | Iter 2.000: -2.0832616143304854 | Iter 1.000: -2.296528092432022<br>Resources requested: 2/6 CPUs, 1/1 GPUs, 0.0/29.15 GiB heap, 0.0/10.06 GiB objects (0/1.0 accelerator_type:K80)<br>Current best trial: 9981d_00006 with loss=1.1721528250813484 and parameters={'l1': 64, 'l2': 8, 'lr': 0.0006939560657240752, 'batch_size': 8}<br>Result logdir: /home/azureuser/ray_results/_inner_2021-05-20_18-17-13<br>Number of trials: 10/10 (1 PENDING, 1 RUNNING, 8 TERMINATED)<br><br>"
      ],
      "text/plain": [
       "<IPython.core.display.HTML object>"
      ]
     },
     "metadata": {},
     "output_type": "display_data"
    },
    {
     "name": "stdout",
     "output_type": "stream",
     "text": [
      "Trial _inner_9981d_00008 reported loss=1.27 with parameters={'l1': 256, 'l2': 128, 'lr': 0.00024551934474363265, 'batch_size': 4}.\n"
     ]
    },
    {
     "data": {
      "text/html": [
       "== Status ==<br>Memory usage on this node: 8.5/55.0 GiB<br>Using AsyncHyperBand: num_stopped=8\n",
       "Bracket: Iter 8.000: -1.9828141443252563 | Iter 4.000: -1.632986307385564 | Iter 2.000: -2.0832616143304854 | Iter 1.000: -2.296528092432022<br>Resources requested: 2/6 CPUs, 1/1 GPUs, 0.0/29.15 GiB heap, 0.0/10.06 GiB objects (0/1.0 accelerator_type:K80)<br>Current best trial: 9981d_00006 with loss=1.1721528250813484 and parameters={'l1': 64, 'l2': 8, 'lr': 0.0006939560657240752, 'batch_size': 8}<br>Result logdir: /home/azureuser/ray_results/_inner_2021-05-20_18-17-13<br>Number of trials: 10/10 (1 PENDING, 1 RUNNING, 8 TERMINATED)<br><br>"
      ],
      "text/plain": [
       "<IPython.core.display.HTML object>"
      ]
     },
     "metadata": {},
     "output_type": "display_data"
    },
    {
     "name": "stdout",
     "output_type": "stream",
     "text": [
      "Trial _inner_9981d_00008 reported loss=1.21 with parameters={'l1': 256, 'l2': 128, 'lr': 0.00024551934474363265, 'batch_size': 4}.\n"
     ]
    },
    {
     "data": {
      "text/html": [
       "== Status ==<br>Memory usage on this node: 8.5/55.0 GiB<br>Using AsyncHyperBand: num_stopped=8\n",
       "Bracket: Iter 8.000: -1.9828141443252563 | Iter 4.000: -1.632986307385564 | Iter 2.000: -2.0832616143304854 | Iter 1.000: -2.296528092432022<br>Resources requested: 2/6 CPUs, 1/1 GPUs, 0.0/29.15 GiB heap, 0.0/10.06 GiB objects (0/1.0 accelerator_type:K80)<br>Current best trial: 9981d_00006 with loss=1.1721528250813484 and parameters={'l1': 64, 'l2': 8, 'lr': 0.0006939560657240752, 'batch_size': 8}<br>Result logdir: /home/azureuser/ray_results/_inner_2021-05-20_18-17-13<br>Number of trials: 10/10 (1 PENDING, 1 RUNNING, 8 TERMINATED)<br><br>"
      ],
      "text/plain": [
       "<IPython.core.display.HTML object>"
      ]
     },
     "metadata": {},
     "output_type": "display_data"
    },
    {
     "name": "stdout",
     "output_type": "stream",
     "text": [
      "Trial _inner_9981d_00008 reported loss=1.16 with parameters={'l1': 256, 'l2': 128, 'lr': 0.00024551934474363265, 'batch_size': 4}.\n"
     ]
    },
    {
     "data": {
      "text/html": [
       "== Status ==<br>Memory usage on this node: 8.5/55.0 GiB<br>Using AsyncHyperBand: num_stopped=8\n",
       "Bracket: Iter 8.000: -1.9828141443252563 | Iter 4.000: -1.632986307385564 | Iter 2.000: -2.0832616143304854 | Iter 1.000: -2.296528092432022<br>Resources requested: 2/6 CPUs, 1/1 GPUs, 0.0/29.15 GiB heap, 0.0/10.06 GiB objects (0/1.0 accelerator_type:K80)<br>Current best trial: 9981d_00008 with loss=1.1600813550323248 and parameters={'l1': 256, 'l2': 128, 'lr': 0.00024551934474363265, 'batch_size': 4}<br>Result logdir: /home/azureuser/ray_results/_inner_2021-05-20_18-17-13<br>Number of trials: 10/10 (1 PENDING, 1 RUNNING, 8 TERMINATED)<br><br>"
      ],
      "text/plain": [
       "<IPython.core.display.HTML object>"
      ]
     },
     "metadata": {},
     "output_type": "display_data"
    },
    {
     "name": "stdout",
     "output_type": "stream",
     "text": [
      "Trial _inner_9981d_00008 reported loss=1.14 with parameters={'l1': 256, 'l2': 128, 'lr': 0.00024551934474363265, 'batch_size': 4}.\n"
     ]
    },
    {
     "data": {
      "text/html": [
       "== Status ==<br>Memory usage on this node: 8.5/55.0 GiB<br>Using AsyncHyperBand: num_stopped=8\n",
       "Bracket: Iter 8.000: -1.5942968774557114 | Iter 4.000: -1.632986307385564 | Iter 2.000: -2.0832616143304854 | Iter 1.000: -2.296528092432022<br>Resources requested: 2/6 CPUs, 1/1 GPUs, 0.0/29.15 GiB heap, 0.0/10.06 GiB objects (0/1.0 accelerator_type:K80)<br>Current best trial: 9981d_00008 with loss=1.1382440552681685 and parameters={'l1': 256, 'l2': 128, 'lr': 0.00024551934474363265, 'batch_size': 4}<br>Result logdir: /home/azureuser/ray_results/_inner_2021-05-20_18-17-13<br>Number of trials: 10/10 (1 PENDING, 1 RUNNING, 8 TERMINATED)<br><br>"
      ],
      "text/plain": [
       "<IPython.core.display.HTML object>"
      ]
     },
     "metadata": {},
     "output_type": "display_data"
    },
    {
     "name": "stdout",
     "output_type": "stream",
     "text": [
      "Trial _inner_9981d_00008 reported loss=1.13 with parameters={'l1': 256, 'l2': 128, 'lr': 0.00024551934474363265, 'batch_size': 4}.\n"
     ]
    },
    {
     "data": {
      "text/html": [
       "== Status ==<br>Memory usage on this node: 8.5/55.0 GiB<br>Using AsyncHyperBand: num_stopped=8\n",
       "Bracket: Iter 8.000: -1.5942968774557114 | Iter 4.000: -1.632986307385564 | Iter 2.000: -2.0832616143304854 | Iter 1.000: -2.296528092432022<br>Resources requested: 2/6 CPUs, 1/1 GPUs, 0.0/29.15 GiB heap, 0.0/10.06 GiB objects (0/1.0 accelerator_type:K80)<br>Current best trial: 9981d_00008 with loss=1.1292951939225198 and parameters={'l1': 256, 'l2': 128, 'lr': 0.00024551934474363265, 'batch_size': 4}<br>Result logdir: /home/azureuser/ray_results/_inner_2021-05-20_18-17-13<br>Number of trials: 10/10 (1 PENDING, 1 RUNNING, 8 TERMINATED)<br><br>"
      ],
      "text/plain": [
       "<IPython.core.display.HTML object>"
      ]
     },
     "metadata": {},
     "output_type": "display_data"
    },
    {
     "name": "stdout",
     "output_type": "stream",
     "text": [
      "Trial _inner_9981d_00008 reported loss=1.11 with parameters={'l1': 256, 'l2': 128, 'lr': 0.00024551934474363265, 'batch_size': 4}. This trial completed.\n"
     ]
    },
    {
     "data": {
      "text/html": [
       "== Status ==<br>Memory usage on this node: 8.3/55.0 GiB<br>Using AsyncHyperBand: num_stopped=9\n",
       "Bracket: Iter 8.000: -1.5942968774557114 | Iter 4.000: -1.632986307385564 | Iter 2.000: -2.0832616143304854 | Iter 1.000: -2.296528092432022<br>Resources requested: 0/6 CPUs, 0/1 GPUs, 0.0/29.15 GiB heap, 0.0/10.06 GiB objects (0/1.0 accelerator_type:K80)<br>Current best trial: 9981d_00008 with loss=1.1069735721379519 and parameters={'l1': 256, 'l2': 128, 'lr': 0.00024551934474363265, 'batch_size': 4}<br>Result logdir: /home/azureuser/ray_results/_inner_2021-05-20_18-17-13<br>Number of trials: 10/10 (1 PENDING, 9 TERMINATED)<br><br>"
      ],
      "text/plain": [
       "<IPython.core.display.HTML object>"
      ]
     },
     "metadata": {},
     "output_type": "display_data"
    },
    {
     "name": "stdout",
     "output_type": "stream",
     "text": [
      "Trial _inner_9981d_00009 reported loss=2.13 with parameters={'l1': 32, 'l2': 256, 'lr': 0.0004314041792135619, 'batch_size': 16}.\n"
     ]
    },
    {
     "data": {
      "text/html": [
       "== Status ==<br>Memory usage on this node: 8.5/55.0 GiB<br>Using AsyncHyperBand: num_stopped=9\n",
       "Bracket: Iter 8.000: -1.5942968774557114 | Iter 4.000: -1.632986307385564 | Iter 2.000: -2.0832616143304854 | Iter 1.000: -2.215020320916176<br>Resources requested: 2/6 CPUs, 1/1 GPUs, 0.0/29.15 GiB heap, 0.0/10.06 GiB objects (0/1.0 accelerator_type:K80)<br>Current best trial: 9981d_00008 with loss=1.1069735721379519 and parameters={'l1': 256, 'l2': 128, 'lr': 0.00024551934474363265, 'batch_size': 4}<br>Result logdir: /home/azureuser/ray_results/_inner_2021-05-20_18-17-13<br>Number of trials: 10/10 (1 RUNNING, 9 TERMINATED)<br><br>"
      ],
      "text/plain": [
       "<IPython.core.display.HTML object>"
      ]
     },
     "metadata": {},
     "output_type": "display_data"
    },
    {
     "name": "stdout",
     "output_type": "stream",
     "text": [
      "Trial _inner_9981d_00009 reported loss=1.78 with parameters={'l1': 32, 'l2': 256, 'lr': 0.0004314041792135619, 'batch_size': 16}.\n"
     ]
    },
    {
     "data": {
      "text/html": [
       "== Status ==<br>Memory usage on this node: 8.5/55.0 GiB<br>Using AsyncHyperBand: num_stopped=9\n",
       "Bracket: Iter 8.000: -1.5942968774557114 | Iter 4.000: -1.632986307385564 | Iter 2.000: -1.9026511869587004 | Iter 1.000: -2.215020320916176<br>Resources requested: 2/6 CPUs, 1/1 GPUs, 0.0/29.15 GiB heap, 0.0/10.06 GiB objects (0/1.0 accelerator_type:K80)<br>Current best trial: 9981d_00008 with loss=1.1069735721379519 and parameters={'l1': 256, 'l2': 128, 'lr': 0.00024551934474363265, 'batch_size': 4}<br>Result logdir: /home/azureuser/ray_results/_inner_2021-05-20_18-17-13<br>Number of trials: 10/10 (1 RUNNING, 9 TERMINATED)<br><br>"
      ],
      "text/plain": [
       "<IPython.core.display.HTML object>"
      ]
     },
     "metadata": {},
     "output_type": "display_data"
    },
    {
     "name": "stdout",
     "output_type": "stream",
     "text": [
      "Trial _inner_9981d_00009 reported loss=1.61 with parameters={'l1': 32, 'l2': 256, 'lr': 0.0004314041792135619, 'batch_size': 16}.\n"
     ]
    },
    {
     "data": {
      "text/html": [
       "== Status ==<br>Memory usage on this node: 8.5/55.0 GiB<br>Using AsyncHyperBand: num_stopped=9\n",
       "Bracket: Iter 8.000: -1.5942968774557114 | Iter 4.000: -1.632986307385564 | Iter 2.000: -1.9026511869587004 | Iter 1.000: -2.215020320916176<br>Resources requested: 2/6 CPUs, 1/1 GPUs, 0.0/29.15 GiB heap, 0.0/10.06 GiB objects (0/1.0 accelerator_type:K80)<br>Current best trial: 9981d_00008 with loss=1.1069735721379519 and parameters={'l1': 256, 'l2': 128, 'lr': 0.00024551934474363265, 'batch_size': 4}<br>Result logdir: /home/azureuser/ray_results/_inner_2021-05-20_18-17-13<br>Number of trials: 10/10 (1 RUNNING, 9 TERMINATED)<br><br>"
      ],
      "text/plain": [
       "<IPython.core.display.HTML object>"
      ]
     },
     "metadata": {},
     "output_type": "display_data"
    },
    {
     "name": "stdout",
     "output_type": "stream",
     "text": [
      "Trial _inner_9981d_00009 reported loss=1.52 with parameters={'l1': 32, 'l2': 256, 'lr': 0.0004314041792135619, 'batch_size': 16}.\n"
     ]
    },
    {
     "data": {
      "text/html": [
       "== Status ==<br>Memory usage on this node: 8.5/55.0 GiB<br>Using AsyncHyperBand: num_stopped=9\n",
       "Bracket: Iter 8.000: -1.5942968774557114 | Iter 4.000: -1.5178765344619751 | Iter 2.000: -1.9026511869587004 | Iter 1.000: -2.215020320916176<br>Resources requested: 2/6 CPUs, 1/1 GPUs, 0.0/29.15 GiB heap, 0.0/10.06 GiB objects (0/1.0 accelerator_type:K80)<br>Current best trial: 9981d_00008 with loss=1.1069735721379519 and parameters={'l1': 256, 'l2': 128, 'lr': 0.00024551934474363265, 'batch_size': 4}<br>Result logdir: /home/azureuser/ray_results/_inner_2021-05-20_18-17-13<br>Number of trials: 10/10 (1 RUNNING, 9 TERMINATED)<br><br>"
      ],
      "text/plain": [
       "<IPython.core.display.HTML object>"
      ]
     },
     "metadata": {},
     "output_type": "display_data"
    },
    {
     "name": "stdout",
     "output_type": "stream",
     "text": [
      "Trial _inner_9981d_00009 reported loss=1.43 with parameters={'l1': 32, 'l2': 256, 'lr': 0.0004314041792135619, 'batch_size': 16}.\n"
     ]
    },
    {
     "data": {
      "text/html": [
       "== Status ==<br>Memory usage on this node: 8.5/55.0 GiB<br>Using AsyncHyperBand: num_stopped=9\n",
       "Bracket: Iter 8.000: -1.5942968774557114 | Iter 4.000: -1.5178765344619751 | Iter 2.000: -1.9026511869587004 | Iter 1.000: -2.215020320916176<br>Resources requested: 2/6 CPUs, 1/1 GPUs, 0.0/29.15 GiB heap, 0.0/10.06 GiB objects (0/1.0 accelerator_type:K80)<br>Current best trial: 9981d_00008 with loss=1.1069735721379519 and parameters={'l1': 256, 'l2': 128, 'lr': 0.00024551934474363265, 'batch_size': 4}<br>Result logdir: /home/azureuser/ray_results/_inner_2021-05-20_18-17-13<br>Number of trials: 10/10 (1 RUNNING, 9 TERMINATED)<br><br>"
      ],
      "text/plain": [
       "<IPython.core.display.HTML object>"
      ]
     },
     "metadata": {},
     "output_type": "display_data"
    },
    {
     "name": "stdout",
     "output_type": "stream",
     "text": [
      "Trial _inner_9981d_00009 reported loss=1.45 with parameters={'l1': 32, 'l2': 256, 'lr': 0.0004314041792135619, 'batch_size': 16}.\n"
     ]
    },
    {
     "data": {
      "text/html": [
       "== Status ==<br>Memory usage on this node: 8.5/55.0 GiB<br>Using AsyncHyperBand: num_stopped=9\n",
       "Bracket: Iter 8.000: -1.5942968774557114 | Iter 4.000: -1.5178765344619751 | Iter 2.000: -1.9026511869587004 | Iter 1.000: -2.215020320916176<br>Resources requested: 2/6 CPUs, 1/1 GPUs, 0.0/29.15 GiB heap, 0.0/10.06 GiB objects (0/1.0 accelerator_type:K80)<br>Current best trial: 9981d_00008 with loss=1.1069735721379519 and parameters={'l1': 256, 'l2': 128, 'lr': 0.00024551934474363265, 'batch_size': 4}<br>Result logdir: /home/azureuser/ray_results/_inner_2021-05-20_18-17-13<br>Number of trials: 10/10 (1 RUNNING, 9 TERMINATED)<br><br>"
      ],
      "text/plain": [
       "<IPython.core.display.HTML object>"
      ]
     },
     "metadata": {},
     "output_type": "display_data"
    },
    {
     "name": "stdout",
     "output_type": "stream",
     "text": [
      "Trial _inner_9981d_00009 reported loss=1.31 with parameters={'l1': 32, 'l2': 256, 'lr': 0.0004314041792135619, 'batch_size': 16}.\n"
     ]
    },
    {
     "data": {
      "text/html": [
       "== Status ==<br>Memory usage on this node: 8.5/55.0 GiB<br>Using AsyncHyperBand: num_stopped=9\n",
       "Bracket: Iter 8.000: -1.5942968774557114 | Iter 4.000: -1.5178765344619751 | Iter 2.000: -1.9026511869587004 | Iter 1.000: -2.215020320916176<br>Resources requested: 2/6 CPUs, 1/1 GPUs, 0.0/29.15 GiB heap, 0.0/10.06 GiB objects (0/1.0 accelerator_type:K80)<br>Current best trial: 9981d_00008 with loss=1.1069735721379519 and parameters={'l1': 256, 'l2': 128, 'lr': 0.00024551934474363265, 'batch_size': 4}<br>Result logdir: /home/azureuser/ray_results/_inner_2021-05-20_18-17-13<br>Number of trials: 10/10 (1 RUNNING, 9 TERMINATED)<br><br>"
      ],
      "text/plain": [
       "<IPython.core.display.HTML object>"
      ]
     },
     "metadata": {},
     "output_type": "display_data"
    },
    {
     "name": "stdout",
     "output_type": "stream",
     "text": [
      "Trial _inner_9981d_00009 reported loss=1.27 with parameters={'l1': 32, 'l2': 256, 'lr': 0.0004314041792135619, 'batch_size': 16}.\n"
     ]
    },
    {
     "data": {
      "text/html": [
       "== Status ==<br>Memory usage on this node: 8.5/55.0 GiB<br>Using AsyncHyperBand: num_stopped=9\n",
       "Bracket: Iter 8.000: -1.2658784415245057 | Iter 4.000: -1.5178765344619751 | Iter 2.000: -1.9026511869587004 | Iter 1.000: -2.215020320916176<br>Resources requested: 2/6 CPUs, 1/1 GPUs, 0.0/29.15 GiB heap, 0.0/10.06 GiB objects (0/1.0 accelerator_type:K80)<br>Current best trial: 9981d_00008 with loss=1.1069735721379519 and parameters={'l1': 256, 'l2': 128, 'lr': 0.00024551934474363265, 'batch_size': 4}<br>Result logdir: /home/azureuser/ray_results/_inner_2021-05-20_18-17-13<br>Number of trials: 10/10 (1 RUNNING, 9 TERMINATED)<br><br>"
      ],
      "text/plain": [
       "<IPython.core.display.HTML object>"
      ]
     },
     "metadata": {},
     "output_type": "display_data"
    },
    {
     "name": "stdout",
     "output_type": "stream",
     "text": [
      "Trial _inner_9981d_00009 reported loss=1.27 with parameters={'l1': 32, 'l2': 256, 'lr': 0.0004314041792135619, 'batch_size': 16}.\n"
     ]
    },
    {
     "data": {
      "text/html": [
       "== Status ==<br>Memory usage on this node: 8.5/55.0 GiB<br>Using AsyncHyperBand: num_stopped=9\n",
       "Bracket: Iter 8.000: -1.2658784415245057 | Iter 4.000: -1.5178765344619751 | Iter 2.000: -1.9026511869587004 | Iter 1.000: -2.215020320916176<br>Resources requested: 2/6 CPUs, 1/1 GPUs, 0.0/29.15 GiB heap, 0.0/10.06 GiB objects (0/1.0 accelerator_type:K80)<br>Current best trial: 9981d_00008 with loss=1.1069735721379519 and parameters={'l1': 256, 'l2': 128, 'lr': 0.00024551934474363265, 'batch_size': 4}<br>Result logdir: /home/azureuser/ray_results/_inner_2021-05-20_18-17-13<br>Number of trials: 10/10 (1 RUNNING, 9 TERMINATED)<br><br>"
      ],
      "text/plain": [
       "<IPython.core.display.HTML object>"
      ]
     },
     "metadata": {},
     "output_type": "display_data"
    },
    {
     "name": "stdout",
     "output_type": "stream",
     "text": [
      "Trial _inner_9981d_00009 reported loss=1.19 with parameters={'l1': 32, 'l2': 256, 'lr': 0.0004314041792135619, 'batch_size': 16}. This trial completed.\n"
     ]
    },
    {
     "data": {
      "text/html": [
       "== Status ==<br>Memory usage on this node: 8.4/55.0 GiB<br>Using AsyncHyperBand: num_stopped=10\n",
       "Bracket: Iter 8.000: -1.2658784415245057 | Iter 4.000: -1.5178765344619751 | Iter 2.000: -1.9026511869587004 | Iter 1.000: -2.215020320916176<br>Resources requested: 0/6 CPUs, 0/1 GPUs, 0.0/29.15 GiB heap, 0.0/10.06 GiB objects (0/1.0 accelerator_type:K80)<br>Current best trial: 9981d_00008 with loss=1.1069735721379519 and parameters={'l1': 256, 'l2': 128, 'lr': 0.00024551934474363265, 'batch_size': 4}<br>Result logdir: /home/azureuser/ray_results/_inner_2021-05-20_18-17-13<br>Number of trials: 10/10 (10 TERMINATED)<br><br>"
      ],
      "text/plain": [
       "<IPython.core.display.HTML object>"
      ]
     },
     "metadata": {},
     "output_type": "display_data"
    },
    {
     "data": {
      "text/html": [
       "== Status ==<br>Memory usage on this node: 8.4/55.0 GiB<br>Using AsyncHyperBand: num_stopped=10\n",
       "Bracket: Iter 8.000: -1.2658784415245057 | Iter 4.000: -1.5178765344619751 | Iter 2.000: -1.9026511869587004 | Iter 1.000: -2.215020320916176<br>Resources requested: 0/6 CPUs, 0/1 GPUs, 0.0/29.15 GiB heap, 0.0/10.06 GiB objects (0/1.0 accelerator_type:K80)<br>Current best trial: 9981d_00008 with loss=1.1069735721379519 and parameters={'l1': 256, 'l2': 128, 'lr': 0.00024551934474363265, 'batch_size': 4}<br>Result logdir: /home/azureuser/ray_results/_inner_2021-05-20_18-17-13<br>Number of trials: 10/10 (10 TERMINATED)<br><table>\n",
       "<thead>\n",
       "<tr><th>Trial name        </th><th>status    </th><th>loc  </th><th style=\"text-align: right;\">  batch_size</th><th style=\"text-align: right;\">  l1</th><th style=\"text-align: right;\">  l2</th><th style=\"text-align: right;\">         lr</th><th style=\"text-align: right;\">  iter</th><th style=\"text-align: right;\">  total time (s)</th><th style=\"text-align: right;\">   loss</th><th style=\"text-align: right;\">  accuracy</th></tr>\n",
       "</thead>\n",
       "<tbody>\n",
       "<tr><td>_inner_9981d_00000</td><td>TERMINATED</td><td>     </td><td style=\"text-align: right;\">           8</td><td style=\"text-align: right;\"> 256</td><td style=\"text-align: right;\">   8</td><td style=\"text-align: right;\">0.0425763  </td><td style=\"text-align: right;\">    10</td><td style=\"text-align: right;\">        245.218 </td><td style=\"text-align: right;\">2.32559</td><td style=\"text-align: right;\">    0.1028</td></tr>\n",
       "<tr><td>_inner_9981d_00001</td><td>TERMINATED</td><td>     </td><td style=\"text-align: right;\">          16</td><td style=\"text-align: right;\">   4</td><td style=\"text-align: right;\">   4</td><td style=\"text-align: right;\">0.000130968</td><td style=\"text-align: right;\">    10</td><td style=\"text-align: right;\">        139.231 </td><td style=\"text-align: right;\">1.93588</td><td style=\"text-align: right;\">    0.223 </td></tr>\n",
       "<tr><td>_inner_9981d_00002</td><td>TERMINATED</td><td>     </td><td style=\"text-align: right;\">           8</td><td style=\"text-align: right;\">   8</td><td style=\"text-align: right;\">   4</td><td style=\"text-align: right;\">0.000197261</td><td style=\"text-align: right;\">     2</td><td style=\"text-align: right;\">         67.8317</td><td style=\"text-align: right;\">2.30133</td><td style=\"text-align: right;\">    0.1294</td></tr>\n",
       "<tr><td>_inner_9981d_00003</td><td>TERMINATED</td><td>     </td><td style=\"text-align: right;\">           2</td><td style=\"text-align: right;\"> 128</td><td style=\"text-align: right;\">   8</td><td style=\"text-align: right;\">0.00397645 </td><td style=\"text-align: right;\">     8</td><td style=\"text-align: right;\">        695.74  </td><td style=\"text-align: right;\">2.15562</td><td style=\"text-align: right;\">    0.1723</td></tr>\n",
       "<tr><td>_inner_9981d_00004</td><td>TERMINATED</td><td>     </td><td style=\"text-align: right;\">           4</td><td style=\"text-align: right;\">   8</td><td style=\"text-align: right;\">  32</td><td style=\"text-align: right;\">0.0114684  </td><td style=\"text-align: right;\">     1</td><td style=\"text-align: right;\">         68.9521</td><td style=\"text-align: right;\">2.30993</td><td style=\"text-align: right;\">    0.0998</td></tr>\n",
       "<tr><td>_inner_9981d_00005</td><td>TERMINATED</td><td>     </td><td style=\"text-align: right;\">           4</td><td style=\"text-align: right;\"> 128</td><td style=\"text-align: right;\">  32</td><td style=\"text-align: right;\">0.0178005  </td><td style=\"text-align: right;\">     2</td><td style=\"text-align: right;\">        112.17  </td><td style=\"text-align: right;\">2.30919</td><td style=\"text-align: right;\">    0.099 </td></tr>\n",
       "<tr><td>_inner_9981d_00006</td><td>TERMINATED</td><td>     </td><td style=\"text-align: right;\">           8</td><td style=\"text-align: right;\">  64</td><td style=\"text-align: right;\">   8</td><td style=\"text-align: right;\">0.000693956</td><td style=\"text-align: right;\">    10</td><td style=\"text-align: right;\">        241.875 </td><td style=\"text-align: right;\">1.17215</td><td style=\"text-align: right;\">    0.595 </td></tr>\n",
       "<tr><td>_inner_9981d_00007</td><td>TERMINATED</td><td>     </td><td style=\"text-align: right;\">          16</td><td style=\"text-align: right;\">  16</td><td style=\"text-align: right;\">   8</td><td style=\"text-align: right;\">0.00220638 </td><td style=\"text-align: right;\">    10</td><td style=\"text-align: right;\">        141.328 </td><td style=\"text-align: right;\">1.21072</td><td style=\"text-align: right;\">    0.5717</td></tr>\n",
       "<tr><td>_inner_9981d_00008</td><td>TERMINATED</td><td>     </td><td style=\"text-align: right;\">           4</td><td style=\"text-align: right;\"> 256</td><td style=\"text-align: right;\"> 128</td><td style=\"text-align: right;\">0.000245519</td><td style=\"text-align: right;\">    10</td><td style=\"text-align: right;\">        452.825 </td><td style=\"text-align: right;\">1.10697</td><td style=\"text-align: right;\">    0.6157</td></tr>\n",
       "<tr><td>_inner_9981d_00009</td><td>TERMINATED</td><td>     </td><td style=\"text-align: right;\">          16</td><td style=\"text-align: right;\">  32</td><td style=\"text-align: right;\"> 256</td><td style=\"text-align: right;\">0.000431404</td><td style=\"text-align: right;\">    10</td><td style=\"text-align: right;\">        143.312 </td><td style=\"text-align: right;\">1.19065</td><td style=\"text-align: right;\">    0.5809</td></tr>\n",
       "</tbody>\n",
       "</table><br><br>"
      ],
      "text/plain": [
       "<IPython.core.display.HTML object>"
      ]
     },
     "metadata": {},
     "output_type": "display_data"
    },
    {
     "name": "stderr",
     "output_type": "stream",
     "text": [
      "2021-05-20 18:55:53,154\tINFO tune.py:448 -- Total run time: 2320.01 seconds (2319.99 seconds for the tuning loop).\n"
     ]
    }
   ],
   "source": [
    "num_samples=10 #number of trials/samples will be used for Hyperparameter optimization \n",
    "max_num_epochs=10 #max epochs\n",
    "gpus_per_trial=1 #gpu to be used for learning \n",
    "\n",
    "data_dir = os.path.abspath(\"./data\")\n",
    "load_data(data_dir)  # Download data for all trials before starting the run\n",
    "\n",
    "#defining hyperparameter search space\n",
    "#ray tune format for defining search space\n",
    "\n",
    "config = {\n",
    "    \"l1\": tune.sample_from(lambda _: 2 ** np.random.randint(2, 9)),\n",
    "    \"l2\": tune.sample_from(lambda _: 2 ** np.random.randint(2, 9)),\n",
    "    \"lr\": tune.loguniform(1e-4, 1e-1),\n",
    "    \"batch_size\": tune.choice([2, 4, 8, 16])\n",
    "}\n",
    "\n",
    "#defining scheduler to be used for selecting optimal hyperparmeter configiration \n",
    "#for next run, which helps to obtain optimal configuration for Hyperparmeter efficiently \n",
    "\n",
    "scheduler = ASHAScheduler(\n",
    "    max_t=max_num_epochs,\n",
    "    grace_period=1,\n",
    "    reduction_factor=2)\n",
    "\n",
    "#running the hyperparameter optimzation process by using Ray Tune as backend for hyperparameter optimization\n",
    "result = tune.run(\n",
    "    tune.with_parameters(train_cifar, data_dir=data_dir),\n",
    "    resources_per_trial={\"cpu\": 2, \"gpu\": gpus_per_trial},\n",
    "    config=config,\n",
    "    metric=\"loss\",\n",
    "    mode=\"min\",\n",
    "    num_samples=num_samples,\n",
    "    scheduler=scheduler\n",
    ")"
   ]
  },
  {
   "cell_type": "code",
   "execution_count": null,
   "metadata": {},
   "outputs": [],
   "source": []
  },
  {
   "cell_type": "code",
   "execution_count": 63,
   "metadata": {},
   "outputs": [
    {
     "name": "stdout",
     "output_type": "stream",
     "text": [
      "Best trial config: {'l1': 256, 'l2': 128, 'lr': 0.00024551934474363265, 'batch_size': 4}\n",
      "Best trial final validation loss: 1.1069735721379519\n",
      "Best trial final validation accuracy: 0.6157\n"
     ]
    }
   ],
   "source": [
    "best_trial = result.get_best_trial(\"loss\", \"min\", \"last\")\n",
    "print(\"Best trial config: {}\".format(best_trial.config))\n",
    "print(\"Best trial final validation loss: {}\".format(\n",
    "    best_trial.last_result[\"loss\"]))\n",
    "print(\"Best trial final validation accuracy: {}\".format(\n",
    "    best_trial.last_result[\"accuracy\"]))\n",
    "\n",
    "\n",
    "\n",
    "# best_trained_model = Net(best_trial.config[\"l1\"], best_trial.config[\"l2\"])\n",
    "# device = \"cpu\"\n",
    "#if torch.cuda.is_available():\n",
    "#    device = \"cuda:0\"\n",
    "#    if gpus_per_trial > 1:\n",
    "#        best_trained_model = nn.DataParallel(best_trained_model)\n",
    "#best_trained_model.to(device)    \n",
    "\n",
    "#test_acc = test_accuracy(best_trained_model, device)\n",
    "#print(\"Best trial test set accuracy: {}\".format(test_acc))"
   ]
  },
  {
   "cell_type": "code",
   "execution_count": 66,
   "metadata": {},
   "outputs": [
    {
     "data": {
      "image/png": "[encoded data removed]",
      "text/plain": [
       "<Figure size 432x288 with 1 Axes>"
      ]
     },
     "metadata": {},
     "output_type": "display_data"
    }
   ],
   "source": [
    "dfs = result.fetch_trial_dataframes()\n",
    "[d.accuracy.plot() for d in dfs.values()]\n",
    "plt.xlabel(\"epoch\"); plt.ylabel(\"Test Accuracy\"); "
   ]
  },
  {
   "cell_type": "code",
   "execution_count": null,
   "metadata": {},
   "outputs": [],
   "source": []
  },
  {
   "cell_type": "code",
   "execution_count": null,
   "metadata": {},
   "outputs": [],
   "source": []
  }
 ],
 "metadata": {
  "kernelspec": {
   "display_name": "Python 3.6 - AzureML",
   "language": "python",
   "name": "python3-azureml"
  },
  "language_info": {
   "codemirror_mode": {
    "name": "ipython",
    "version": 3
   },
   "file_extension": ".py",
   "mimetype": "text/x-python",
   "name": "python",
   "nbconvert_exporter": "python",
   "pygments_lexer": "ipython3",
   "version": "3.6.9"
  }
 },
 "nbformat": 4,
 "nbformat_minor": 4
}
